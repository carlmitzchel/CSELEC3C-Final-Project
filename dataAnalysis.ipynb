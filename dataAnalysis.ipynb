{
 "cells": [
  {
   "cell_type": "code",
   "execution_count": 51,
   "metadata": {},
   "outputs": [],
   "source": [
    "import pandas as pd\n",
    "import numpy as np\n",
    "import seaborn as sns\n",
    "import matplotlib.pyplot as plt"
   ]
  },
  {
   "cell_type": "markdown",
   "metadata": {},
   "source": [
    "## Preliminary Data Analysis"
   ]
  },
  {
   "cell_type": "markdown",
   "metadata": {},
   "source": [
    "### Loading the datasets."
   ]
  },
  {
   "cell_type": "code",
   "execution_count": 52,
   "metadata": {},
   "outputs": [
    {
     "name": "stderr",
     "output_type": "stream",
     "text": [
      "C:\\Users\\Chy\\AppData\\Local\\Temp\\ipykernel_1532\\1626076420.py:7: DtypeWarning: Columns (76) have mixed types. Specify dtype option on import or set low_memory=False.\n",
      "  df_23 = pd.read_csv('dataset/PHL-PSA-FIES-2023-V1-PUF/FIES PUF 2023 Volume1.csv')\n"
     ]
    }
   ],
   "source": [
    "# 2021 Dataset\n",
    "\n",
    "df_21 = pd.read_csv('dataset/PHL-PSA-FIES-2021-PUF/FIES PUF 2021 Vol.1.csv')\n",
    "\n",
    "# 2023 Dataset\n",
    "\n",
    "df_23 = pd.read_csv('dataset/PHL-PSA-FIES-2023-V1-PUF/FIES PUF 2023 Volume1.csv')"
   ]
  },
  {
   "cell_type": "markdown",
   "metadata": {},
   "source": [
    "### Data Cleaning"
   ]
  },
  {
   "cell_type": "code",
   "execution_count": 53,
   "metadata": {},
   "outputs": [
    {
     "data": {
      "text/plain": [
       "Index(['W_REGN', 'W_PROV', 'SEQUENCE_NO', 'FSIZE', 'REG_SAL', 'SEASON_SAL',\n",
       "       'WAGES', 'NETSHARE', 'CASH_ABROAD', 'CASH_DOMESTIC', 'RENTALS_REC',\n",
       "       'INTEREST', 'PENSION', 'DIVIDENDS', 'OTHER_SOURCE', 'NET_RECEIPT',\n",
       "       'REGFT', 'NET_CFG', 'NET_LPR', 'NET_FISH', 'NET_FOR', 'NET_RET',\n",
       "       'NET_MFG', 'NET_TRANS', 'NET_NEC_A8', 'NET_NEC_A9', 'NET_NEC_A10',\n",
       "       'EAINC', 'TOINC', 'LOSSES', 'BREAD', 'MEAT', 'FISH', 'MILK', 'OIL',\n",
       "       'FRUIT', 'VEG', 'SUGAR', 'FOOD_NEC', 'FRUIT_VEG', 'COFFEE', 'TEA',\n",
       "       'COCOA', 'WATER', 'SOFTDRINKS', 'OTHER_NON_ALCOHOL', 'ALCOHOL',\n",
       "       'TOBACCO', 'OTHER_VEG', 'SERVICES_PRIMARY_GOODS',\n",
       "       'ALCOHOL_PROCDUCTION_SERVICES', 'FOOD_HOME', 'FOOD_OUTSIDE', 'FOOD',\n",
       "       'CLOTH', 'FURNISHING', 'HEALTH', 'HOUSING_WATER', 'ACTRENT', 'RENTVAL',\n",
       "       'IMPUTED_RENT', 'BIMPUTED_RENT', 'TRANSPORT', 'COMMUNICATION',\n",
       "       'RECREATION', 'EDUCATION', 'INSURANCE', 'MISCELLANEOUS', 'DURABLE',\n",
       "       'OCCASION', 'OTHER_EXPENDITURE', 'OTHER_DISBURSEMENT',\n",
       "       'FOOD_ACCOM_SRVC', 'NFOOD', 'TOTEX', 'TOTDIS', 'OTHREC', 'TOREC', 'URB',\n",
       "       'RPROV', 'RPSU', 'BWEIGHT', 'RFACT', 'RFACT_POP', 'PCINC', 'NPCINC',\n",
       "       'RPCINC', 'PPCINC'],\n",
       "      dtype='object')"
      ]
     },
     "execution_count": 53,
     "metadata": {},
     "output_type": "execute_result"
    }
   ],
   "source": [
    "df_21.columns"
   ]
  },
  {
   "cell_type": "code",
   "execution_count": 54,
   "metadata": {},
   "outputs": [
    {
     "data": {
      "text/plain": [
       "Index(['W_REGN', 'W_PROV', 'SEQ_NO', 'RPROV', 'FSIZE', 'REG_SAL', 'SEASON_SAL',\n",
       "       'WAGES', 'NETSHARE', 'CASH_ABROAD', 'CASH_DOMESTIC', 'RENTALS_REC',\n",
       "       'INTEREST', 'PENSION', 'DIVIDENDS', 'OTHER_SOURCE', 'NET_RECEIPT',\n",
       "       'REGFT', 'NET_CFG', 'NET_LPR', 'NET_FISH', 'NET_FOR', 'NET_RET',\n",
       "       'NET_MFG', 'NET_TRANS', 'NET_NEC_A8', 'NET_NEC_A9', 'NET_NEC_A10',\n",
       "       'EAINC', 'LOSSES', 'BREAD', 'MEAT', 'FISH', 'MILK', 'OIL', 'FRUIT',\n",
       "       'VEG', 'SUGAR', 'FOOD_NEC', 'FRUIT_VEG', 'COFFEE', 'TEA', 'COCOA',\n",
       "       'WATER', 'SOFTDRINKS', 'OTHER_NON_ALCOHOL', 'ALCOHOL', 'TOBACCO',\n",
       "       'OTHER_VEG', 'SERVICES_PRIMARY_GOODS', 'ALCOHOL_PROCDUCTION_SERVICES',\n",
       "       'FOOD_HOME', 'FOOD_OUTSIDE', 'FOOD', 'CLOTH', 'HOUSING_WATER',\n",
       "       'ACTRENT', 'IMPUTED_RENT', 'BIMPUTED_RENT', 'RENTVAL', 'FURNISHING',\n",
       "       'HEALTH', 'TRANSPORT', 'COMMUNICATION', 'RECREATION', 'EDUCATION',\n",
       "       'INSURANCE', 'MISCELLANEOUS', 'DURABLE', 'OCCASION',\n",
       "       'OTHER_EXPENDITURE', 'OTHER_DISBURSEMENT', 'FOOD_ACCOM_SRVC', 'NFOOD',\n",
       "       'TOINC', 'TOTEX', 'TOTDIS', 'OTHREC', 'TOREC', 'RPSU', 'RFACT',\n",
       "       'MEM_RFACT', 'URB', 'PERCAPITA', 'NPCINC', 'RPCINC', 'PRPCINC',\n",
       "       'PPCINC', 'RPCINC_NIR', 'W_REGN_NIR'],\n",
       "      dtype='object')"
      ]
     },
     "execution_count": 54,
     "metadata": {},
     "output_type": "execute_result"
    }
   ],
   "source": [
    "df_23.columns"
   ]
  },
  {
   "cell_type": "code",
   "execution_count": 55,
   "metadata": {},
   "outputs": [],
   "source": [
    "# Since there are discrepancies between the 2021 and 2023 dataset. We will follow the better described columns between the two datasets.\n",
    "# For example, the SEQUENCE_NO in the 2021 dataset is described as \"Sequence No.\" while in the 2023 dataset it is described as \"Household ID\"\n",
    "\n",
    "df_21.rename(columns={'SEQUENCE_NO': 'SEQ_NO'}, inplace=True)"
   ]
  },
  {
   "cell_type": "code",
   "execution_count": 56,
   "metadata": {},
   "outputs": [],
   "source": [
    "# Since `BWEIGHT` does not exist in the 2023 dataset, we will drop it from the 2021 dataset to retain consistency.\n",
    "\n",
    "df_21.drop(columns=['BWEIGHT'], inplace=True)"
   ]
  },
  {
   "cell_type": "code",
   "execution_count": 57,
   "metadata": {},
   "outputs": [],
   "source": [
    "df_21.rename(columns={'RFACT': 'FAMILY_WEIGHT'}, inplace=True)\n",
    "df_23.rename(columns={'RFACT': 'FAMILY_WEIGHT'}, inplace=True)"
   ]
  },
  {
   "cell_type": "code",
   "execution_count": 58,
   "metadata": {},
   "outputs": [],
   "source": [
    "df_21.rename(columns={'RFACT_POP': 'POPULATION_WEIGHT'}, inplace=True)\n",
    "df_23.rename(columns={'MEM_RFACT': 'POPULATION_WEIGHT'}, inplace=True)"
   ]
  },
  {
   "cell_type": "code",
   "execution_count": 59,
   "metadata": {},
   "outputs": [],
   "source": [
    "df_23.rename(columns={'PERCAPITA': 'PCINC'}, inplace=True)\n",
    "df_23.drop(columns=['PPCINC'], inplace=True)\n",
    "df_23.rename(columns={'PRPCINC': 'PPCINC'}, inplace=True)"
   ]
  },
  {
   "cell_type": "code",
   "execution_count": 60,
   "metadata": {},
   "outputs": [],
   "source": [
    "df_23.drop(columns=['RPCINC'], inplace=True)\n",
    "df_23.rename(columns={'RPCINC_NIR': 'RPCINC'}, inplace=True)"
   ]
  },
  {
   "cell_type": "code",
   "execution_count": 61,
   "metadata": {},
   "outputs": [],
   "source": [
    "df_23.drop(columns=['W_REGN'], inplace=True)\n",
    "df_23.rename(columns={'W_REGN_NIR': 'W_REGN'}, inplace=True)"
   ]
  },
  {
   "cell_type": "code",
   "execution_count": 62,
   "metadata": {},
   "outputs": [
    {
     "data": {
      "text/plain": [
       "Index(['W_REGN', 'W_PROV', 'SEQ_NO', 'FSIZE', 'REG_SAL', 'SEASON_SAL', 'WAGES',\n",
       "       'NETSHARE', 'CASH_ABROAD', 'CASH_DOMESTIC', 'RENTALS_REC', 'INTEREST',\n",
       "       'PENSION', 'DIVIDENDS', 'OTHER_SOURCE', 'NET_RECEIPT', 'REGFT',\n",
       "       'NET_CFG', 'NET_LPR', 'NET_FISH', 'NET_FOR', 'NET_RET', 'NET_MFG',\n",
       "       'NET_TRANS', 'NET_NEC_A8', 'NET_NEC_A9', 'NET_NEC_A10', 'EAINC',\n",
       "       'TOINC', 'LOSSES', 'BREAD', 'MEAT', 'FISH', 'MILK', 'OIL', 'FRUIT',\n",
       "       'VEG', 'SUGAR', 'FOOD_NEC', 'FRUIT_VEG', 'COFFEE', 'TEA', 'COCOA',\n",
       "       'WATER', 'SOFTDRINKS', 'OTHER_NON_ALCOHOL', 'ALCOHOL', 'TOBACCO',\n",
       "       'OTHER_VEG', 'SERVICES_PRIMARY_GOODS', 'ALCOHOL_PROCDUCTION_SERVICES',\n",
       "       'FOOD_HOME', 'FOOD_OUTSIDE', 'FOOD', 'CLOTH', 'FURNISHING', 'HEALTH',\n",
       "       'HOUSING_WATER', 'ACTRENT', 'RENTVAL', 'IMPUTED_RENT', 'BIMPUTED_RENT',\n",
       "       'TRANSPORT', 'COMMUNICATION', 'RECREATION', 'EDUCATION', 'INSURANCE',\n",
       "       'MISCELLANEOUS', 'DURABLE', 'OCCASION', 'OTHER_EXPENDITURE',\n",
       "       'OTHER_DISBURSEMENT', 'FOOD_ACCOM_SRVC', 'NFOOD', 'TOTEX', 'TOTDIS',\n",
       "       'OTHREC', 'TOREC', 'URB', 'RPROV', 'RPSU', 'FAMILY_WEIGHT',\n",
       "       'POPULATION_WEIGHT', 'PCINC', 'NPCINC', 'RPCINC', 'PPCINC'],\n",
       "      dtype='object')"
      ]
     },
     "execution_count": 62,
     "metadata": {},
     "output_type": "execute_result"
    }
   ],
   "source": [
    "df_21.columns"
   ]
  },
  {
   "cell_type": "code",
   "execution_count": 63,
   "metadata": {},
   "outputs": [
    {
     "data": {
      "text/plain": [
       "Index(['W_PROV', 'SEQ_NO', 'RPROV', 'FSIZE', 'REG_SAL', 'SEASON_SAL', 'WAGES',\n",
       "       'NETSHARE', 'CASH_ABROAD', 'CASH_DOMESTIC', 'RENTALS_REC', 'INTEREST',\n",
       "       'PENSION', 'DIVIDENDS', 'OTHER_SOURCE', 'NET_RECEIPT', 'REGFT',\n",
       "       'NET_CFG', 'NET_LPR', 'NET_FISH', 'NET_FOR', 'NET_RET', 'NET_MFG',\n",
       "       'NET_TRANS', 'NET_NEC_A8', 'NET_NEC_A9', 'NET_NEC_A10', 'EAINC',\n",
       "       'LOSSES', 'BREAD', 'MEAT', 'FISH', 'MILK', 'OIL', 'FRUIT', 'VEG',\n",
       "       'SUGAR', 'FOOD_NEC', 'FRUIT_VEG', 'COFFEE', 'TEA', 'COCOA', 'WATER',\n",
       "       'SOFTDRINKS', 'OTHER_NON_ALCOHOL', 'ALCOHOL', 'TOBACCO', 'OTHER_VEG',\n",
       "       'SERVICES_PRIMARY_GOODS', 'ALCOHOL_PROCDUCTION_SERVICES', 'FOOD_HOME',\n",
       "       'FOOD_OUTSIDE', 'FOOD', 'CLOTH', 'HOUSING_WATER', 'ACTRENT',\n",
       "       'IMPUTED_RENT', 'BIMPUTED_RENT', 'RENTVAL', 'FURNISHING', 'HEALTH',\n",
       "       'TRANSPORT', 'COMMUNICATION', 'RECREATION', 'EDUCATION', 'INSURANCE',\n",
       "       'MISCELLANEOUS', 'DURABLE', 'OCCASION', 'OTHER_EXPENDITURE',\n",
       "       'OTHER_DISBURSEMENT', 'FOOD_ACCOM_SRVC', 'NFOOD', 'TOINC', 'TOTEX',\n",
       "       'TOTDIS', 'OTHREC', 'TOREC', 'RPSU', 'FAMILY_WEIGHT',\n",
       "       'POPULATION_WEIGHT', 'URB', 'PCINC', 'NPCINC', 'PPCINC', 'RPCINC',\n",
       "       'W_REGN'],\n",
       "      dtype='object')"
      ]
     },
     "execution_count": 63,
     "metadata": {},
     "output_type": "execute_result"
    }
   ],
   "source": [
    "df_23.columns"
   ]
  },
  {
   "cell_type": "code",
   "execution_count": 69,
   "metadata": {},
   "outputs": [
    {
     "data": {
      "text/plain": [
       "87"
      ]
     },
     "execution_count": 69,
     "metadata": {},
     "output_type": "execute_result"
    }
   ],
   "source": [
    "df_23.shape[1]"
   ]
  },
  {
   "cell_type": "code",
   "execution_count": 68,
   "metadata": {},
   "outputs": [
    {
     "data": {
      "text/plain": [
       "87"
      ]
     },
     "execution_count": 68,
     "metadata": {},
     "output_type": "execute_result"
    }
   ],
   "source": [
    "df_21.shape[1]"
   ]
  },
  {
   "cell_type": "code",
   "execution_count": 70,
   "metadata": {},
   "outputs": [
    {
     "name": "stdout",
     "output_type": "stream",
     "text": [
      "<class 'pandas.core.frame.DataFrame'>\n",
      "RangeIndex: 165029 entries, 0 to 165028\n",
      "Data columns (total 87 columns):\n",
      " #   Column                        Non-Null Count   Dtype  \n",
      "---  ------                        --------------   -----  \n",
      " 0   W_REGN                        165029 non-null  int64  \n",
      " 1   W_PROV                        165029 non-null  int64  \n",
      " 2   SEQ_NO                        165029 non-null  int64  \n",
      " 3   FSIZE                         165029 non-null  float64\n",
      " 4   REG_SAL                       165029 non-null  int64  \n",
      " 5   SEASON_SAL                    165029 non-null  int64  \n",
      " 6   WAGES                         165029 non-null  int64  \n",
      " 7   NETSHARE                      165029 non-null  int64  \n",
      " 8   CASH_ABROAD                   165029 non-null  int64  \n",
      " 9   CASH_DOMESTIC                 165029 non-null  int64  \n",
      " 10  RENTALS_REC                   165029 non-null  int64  \n",
      " 11  INTEREST                      165029 non-null  int64  \n",
      " 12  PENSION                       165029 non-null  int64  \n",
      " 13  DIVIDENDS                     165029 non-null  int64  \n",
      " 14  OTHER_SOURCE                  165029 non-null  int64  \n",
      " 15  NET_RECEIPT                   165029 non-null  int64  \n",
      " 16  REGFT                         165029 non-null  int64  \n",
      " 17  NET_CFG                       165029 non-null  int64  \n",
      " 18  NET_LPR                       165029 non-null  int64  \n",
      " 19  NET_FISH                      165029 non-null  int64  \n",
      " 20  NET_FOR                       165029 non-null  int64  \n",
      " 21  NET_RET                       165029 non-null  int64  \n",
      " 22  NET_MFG                       165029 non-null  int64  \n",
      " 23  NET_TRANS                     165029 non-null  int64  \n",
      " 24  NET_NEC_A8                    165029 non-null  int64  \n",
      " 25  NET_NEC_A9                    165029 non-null  int64  \n",
      " 26  NET_NEC_A10                   165029 non-null  int64  \n",
      " 27  EAINC                         165029 non-null  int64  \n",
      " 28  TOINC                         165029 non-null  int64  \n",
      " 29  LOSSES                        165029 non-null  int64  \n",
      " 30  BREAD                         165029 non-null  int64  \n",
      " 31  MEAT                          165029 non-null  int64  \n",
      " 32  FISH                          165029 non-null  int64  \n",
      " 33  MILK                          165029 non-null  int64  \n",
      " 34  OIL                           165029 non-null  int64  \n",
      " 35  FRUIT                         165029 non-null  int64  \n",
      " 36  VEG                           165029 non-null  int64  \n",
      " 37  SUGAR                         165029 non-null  int64  \n",
      " 38  FOOD_NEC                      165029 non-null  int64  \n",
      " 39  FRUIT_VEG                     165029 non-null  int64  \n",
      " 40  COFFEE                        165029 non-null  int64  \n",
      " 41  TEA                           165029 non-null  int64  \n",
      " 42  COCOA                         165029 non-null  int64  \n",
      " 43  WATER                         165029 non-null  int64  \n",
      " 44  SOFTDRINKS                    165029 non-null  int64  \n",
      " 45  OTHER_NON_ALCOHOL             165029 non-null  int64  \n",
      " 46  ALCOHOL                       165029 non-null  int64  \n",
      " 47  TOBACCO                       165029 non-null  int64  \n",
      " 48  OTHER_VEG                     165029 non-null  int64  \n",
      " 49  SERVICES_PRIMARY_GOODS        165029 non-null  int64  \n",
      " 50  ALCOHOL_PROCDUCTION_SERVICES  165029 non-null  int64  \n",
      " 51  FOOD_HOME                     165029 non-null  int64  \n",
      " 52  FOOD_OUTSIDE                  165029 non-null  int64  \n",
      " 53  FOOD                          165029 non-null  int64  \n",
      " 54  CLOTH                         165029 non-null  int64  \n",
      " 55  FURNISHING                    165029 non-null  int64  \n",
      " 56  HEALTH                        165029 non-null  int64  \n",
      " 57  HOUSING_WATER                 165029 non-null  int64  \n",
      " 58  ACTRENT                       165029 non-null  int64  \n",
      " 59  RENTVAL                       165029 non-null  int64  \n",
      " 60  IMPUTED_RENT                  165029 non-null  int64  \n",
      " 61  BIMPUTED_RENT                 165029 non-null  int64  \n",
      " 62  TRANSPORT                     165029 non-null  int64  \n",
      " 63  COMMUNICATION                 165029 non-null  int64  \n",
      " 64  RECREATION                    165029 non-null  int64  \n",
      " 65  EDUCATION                     165029 non-null  int64  \n",
      " 66  INSURANCE                     165029 non-null  int64  \n",
      " 67  MISCELLANEOUS                 165029 non-null  int64  \n",
      " 68  DURABLE                       165029 non-null  int64  \n",
      " 69  OCCASION                      165029 non-null  int64  \n",
      " 70  OTHER_EXPENDITURE             165029 non-null  int64  \n",
      " 71  OTHER_DISBURSEMENT            165029 non-null  int64  \n",
      " 72  FOOD_ACCOM_SRVC               165029 non-null  int64  \n",
      " 73  NFOOD                         165029 non-null  int64  \n",
      " 74  TOTEX                         165029 non-null  int64  \n",
      " 75  TOTDIS                        165029 non-null  int64  \n",
      " 76  OTHREC                        165029 non-null  int64  \n",
      " 77  TOREC                         165029 non-null  int64  \n",
      " 78  URB                           165029 non-null  int64  \n",
      " 79  RPROV                         165029 non-null  int64  \n",
      " 80  RPSU                          165029 non-null  int64  \n",
      " 81  FAMILY_WEIGHT                 165029 non-null  float64\n",
      " 82  POPULATION_WEIGHT             165029 non-null  float64\n",
      " 83  PCINC                         165029 non-null  float64\n",
      " 84  NPCINC                        165029 non-null  float64\n",
      " 85  RPCINC                        165029 non-null  float64\n",
      " 86  PPCINC                        165029 non-null  float64\n",
      "dtypes: float64(7), int64(80)\n",
      "memory usage: 109.5 MB\n"
     ]
    }
   ],
   "source": [
    "df_21.info()"
   ]
  },
  {
   "cell_type": "markdown",
   "metadata": {},
   "source": [
    "### Checking for missing values"
   ]
  },
  {
   "cell_type": "code",
   "execution_count": 76,
   "metadata": {},
   "outputs": [
    {
     "data": {
      "text/plain": [
       "17"
      ]
     },
     "execution_count": 76,
     "metadata": {},
     "output_type": "execute_result"
    }
   ],
   "source": [
    "# Result should be 17 since there are 17 regions in the Philippines\n",
    "df_21[\"W_REGN\"].nunique()"
   ]
  },
  {
   "cell_type": "code",
   "execution_count": 75,
   "metadata": {},
   "outputs": [
    {
     "data": {
      "text/plain": [
       "87"
      ]
     },
     "execution_count": 75,
     "metadata": {},
     "output_type": "execute_result"
    }
   ],
   "source": [
    "# Result should be 82 since there are 82 provinces in the Philippines. 38 in Luzon, 27 in the Visayas and 17 in Mindanao.\n",
    "\n",
    "df_21[\"W_PROV\"].nunique()"
   ]
  },
  {
   "cell_type": "markdown",
   "metadata": {},
   "source": [
    "## Preliminary Findings (Summary Statistics)"
   ]
  },
  {
   "cell_type": "markdown",
   "metadata": {},
   "source": [
    "### Statistics about the `FSIZE` (Family Size)"
   ]
  },
  {
   "cell_type": "code",
   "execution_count": 77,
   "metadata": {},
   "outputs": [
    {
     "data": {
      "text/plain": [
       "count    165029.000000\n",
       "mean          4.244409\n",
       "std           2.029229\n",
       "min           1.000000\n",
       "25%           3.000000\n",
       "50%           4.000000\n",
       "75%           5.500000\n",
       "max          23.000000\n",
       "Name: FSIZE, dtype: float64"
      ]
     },
     "execution_count": 77,
     "metadata": {},
     "output_type": "execute_result"
    }
   ],
   "source": [
    "# Statistics about `FSIZE`\n",
    "df_21['FSIZE'].describe()"
   ]
  },
  {
   "cell_type": "markdown",
   "metadata": {},
   "source": [
    "### Statistics about the `REG_SAL` (Regular Salary)"
   ]
  },
  {
   "cell_type": "code",
   "execution_count": 79,
   "metadata": {},
   "outputs": [
    {
     "data": {
      "text/plain": [
       "count    1.650290e+05\n",
       "mean     1.253006e+05\n",
       "std      2.053604e+05\n",
       "min      0.000000e+00\n",
       "25%      0.000000e+00\n",
       "50%      5.600000e+04\n",
       "75%      1.654000e+05\n",
       "max      6.821000e+06\n",
       "Name: REG_SAL, dtype: float64"
      ]
     },
     "execution_count": 79,
     "metadata": {},
     "output_type": "execute_result"
    }
   ],
   "source": [
    "# Statistics about `REG_SAL`\n",
    "\n",
    "df_21['REG_SAL'].describe()"
   ]
  },
  {
   "cell_type": "markdown",
   "metadata": {},
   "source": [
    "### Statistics about `PCINC` (Per Capita Income)"
   ]
  },
  {
   "cell_type": "code",
   "execution_count": 80,
   "metadata": {},
   "outputs": [
    {
     "data": {
      "text/plain": [
       "count    1.650290e+05\n",
       "mean     8.185092e+04\n",
       "std      1.010066e+05\n",
       "min      5.408625e+03\n",
       "25%      3.540300e+04\n",
       "50%      5.543200e+04\n",
       "75%      9.400000e+04\n",
       "max      9.691285e+06\n",
       "Name: PCINC, dtype: float64"
      ]
     },
     "execution_count": 80,
     "metadata": {},
     "output_type": "execute_result"
    }
   ],
   "source": [
    "# Statistics about `PCINC`\n",
    "df_21['PCINC'].describe()"
   ]
  },
  {
   "cell_type": "code",
   "execution_count": 81,
   "metadata": {},
   "outputs": [
    {
     "data": {
      "image/png": "[encoded data removed]",
      "text/plain": [
       "<Figure size 1200x1000 with 6 Axes>"
      ]
     },
     "metadata": {},
     "output_type": "display_data"
    }
   ],
   "source": [
    "columns_to_plot = ['FSIZE', 'REG_SAL', 'PCINC', 'WAGES', 'FOOD']\n",
    "\n",
    "fig, axes = plt.subplots(3, 2, figsize=(12, 10))\n",
    "\n",
    "# Loop through the selected columns and plot\n",
    "for i, col in enumerate(columns_to_plot):\n",
    "    ax = axes[i//2, i%2]\n",
    "    ax.hist(df_21[col], bins=30, color='skyblue', edgecolor='black')\n",
    "    ax.set_title(f'Distribution of {col}')\n",
    "    ax.set_xlabel(col)\n",
    "    ax.set_ylabel('Frequency')\n",
    "\n",
    "plt.tight_layout()\n",
    "plt.show()"
   ]
  }
 ],
 "metadata": {
  "kernelspec": {
   "display_name": ".venv",
   "language": "python",
   "name": "python3"
  },
  "language_info": {
   "codemirror_mode": {
    "name": "ipython",
    "version": 3
   },
   "file_extension": ".py",
   "mimetype": "text/x-python",
   "name": "python",
   "nbconvert_exporter": "python",
   "pygments_lexer": "ipython3",
   "version": "3.12.3"
  }
 },
 "nbformat": 4,
 "nbformat_minor": 2
}
