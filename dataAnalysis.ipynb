{
 "cells": [
  {
   "cell_type": "code",
   "execution_count": 76,
   "metadata": {},
   "outputs": [],
   "source": [
    "import pandas as pd\n",
    "import numpy as np\n",
    "import seaborn as sns\n",
    "import matplotlib.pyplot as plt"
   ]
  },
  {
   "cell_type": "markdown",
   "metadata": {},
   "source": [
    "## Preliminary Data Analysis"
   ]
  },
  {
   "cell_type": "markdown",
   "metadata": {},
   "source": [
    "## Loading the datasets."
   ]
  },
  {
   "cell_type": "code",
   "execution_count": 77,
   "metadata": {},
   "outputs": [
    {
     "name": "stderr",
     "output_type": "stream",
     "text": [
      "C:\\Users\\Chy\\AppData\\Local\\Temp\\ipykernel_12444\\1626076420.py:7: DtypeWarning: Columns (76) have mixed types. Specify dtype option on import or set low_memory=False.\n",
      "  df_23 = pd.read_csv('dataset/PHL-PSA-FIES-2023-V1-PUF/FIES PUF 2023 Volume1.csv')\n"
     ]
    }
   ],
   "source": [
    "# 2021 Dataset\n",
    "\n",
    "df_21 = pd.read_csv('dataset/PHL-PSA-FIES-2021-PUF/FIES PUF 2021 Vol.1.csv')\n",
    "\n",
    "# 2023 Dataset\n",
    "\n",
    "df_23 = pd.read_csv('dataset/PHL-PSA-FIES-2023-V1-PUF/FIES PUF 2023 Volume1.csv')"
   ]
  },
  {
   "cell_type": "markdown",
   "metadata": {},
   "source": [
    "## Data Cleaning"
   ]
  },
  {
   "cell_type": "code",
   "execution_count": 78,
   "metadata": {},
   "outputs": [
    {
     "data": {
      "text/plain": [
       "Index(['W_REGN', 'W_PROV', 'SEQUENCE_NO', 'FSIZE', 'REG_SAL', 'SEASON_SAL',\n",
       "       'WAGES', 'NETSHARE', 'CASH_ABROAD', 'CASH_DOMESTIC', 'RENTALS_REC',\n",
       "       'INTEREST', 'PENSION', 'DIVIDENDS', 'OTHER_SOURCE', 'NET_RECEIPT',\n",
       "       'REGFT', 'NET_CFG', 'NET_LPR', 'NET_FISH', 'NET_FOR', 'NET_RET',\n",
       "       'NET_MFG', 'NET_TRANS', 'NET_NEC_A8', 'NET_NEC_A9', 'NET_NEC_A10',\n",
       "       'EAINC', 'TOINC', 'LOSSES', 'BREAD', 'MEAT', 'FISH', 'MILK', 'OIL',\n",
       "       'FRUIT', 'VEG', 'SUGAR', 'FOOD_NEC', 'FRUIT_VEG', 'COFFEE', 'TEA',\n",
       "       'COCOA', 'WATER', 'SOFTDRINKS', 'OTHER_NON_ALCOHOL', 'ALCOHOL',\n",
       "       'TOBACCO', 'OTHER_VEG', 'SERVICES_PRIMARY_GOODS',\n",
       "       'ALCOHOL_PROCDUCTION_SERVICES', 'FOOD_HOME', 'FOOD_OUTSIDE', 'FOOD',\n",
       "       'CLOTH', 'FURNISHING', 'HEALTH', 'HOUSING_WATER', 'ACTRENT', 'RENTVAL',\n",
       "       'IMPUTED_RENT', 'BIMPUTED_RENT', 'TRANSPORT', 'COMMUNICATION',\n",
       "       'RECREATION', 'EDUCATION', 'INSURANCE', 'MISCELLANEOUS', 'DURABLE',\n",
       "       'OCCASION', 'OTHER_EXPENDITURE', 'OTHER_DISBURSEMENT',\n",
       "       'FOOD_ACCOM_SRVC', 'NFOOD', 'TOTEX', 'TOTDIS', 'OTHREC', 'TOREC', 'URB',\n",
       "       'RPROV', 'RPSU', 'BWEIGHT', 'RFACT', 'RFACT_POP', 'PCINC', 'NPCINC',\n",
       "       'RPCINC', 'PPCINC'],\n",
       "      dtype='object')"
      ]
     },
     "execution_count": 78,
     "metadata": {},
     "output_type": "execute_result"
    }
   ],
   "source": [
    "df_21.columns"
   ]
  },
  {
   "cell_type": "code",
   "execution_count": 79,
   "metadata": {},
   "outputs": [
    {
     "data": {
      "text/plain": [
       "Index(['W_REGN', 'W_PROV', 'SEQ_NO', 'RPROV', 'FSIZE', 'REG_SAL', 'SEASON_SAL',\n",
       "       'WAGES', 'NETSHARE', 'CASH_ABROAD', 'CASH_DOMESTIC', 'RENTALS_REC',\n",
       "       'INTEREST', 'PENSION', 'DIVIDENDS', 'OTHER_SOURCE', 'NET_RECEIPT',\n",
       "       'REGFT', 'NET_CFG', 'NET_LPR', 'NET_FISH', 'NET_FOR', 'NET_RET',\n",
       "       'NET_MFG', 'NET_TRANS', 'NET_NEC_A8', 'NET_NEC_A9', 'NET_NEC_A10',\n",
       "       'EAINC', 'LOSSES', 'BREAD', 'MEAT', 'FISH', 'MILK', 'OIL', 'FRUIT',\n",
       "       'VEG', 'SUGAR', 'FOOD_NEC', 'FRUIT_VEG', 'COFFEE', 'TEA', 'COCOA',\n",
       "       'WATER', 'SOFTDRINKS', 'OTHER_NON_ALCOHOL', 'ALCOHOL', 'TOBACCO',\n",
       "       'OTHER_VEG', 'SERVICES_PRIMARY_GOODS', 'ALCOHOL_PROCDUCTION_SERVICES',\n",
       "       'FOOD_HOME', 'FOOD_OUTSIDE', 'FOOD', 'CLOTH', 'HOUSING_WATER',\n",
       "       'ACTRENT', 'IMPUTED_RENT', 'BIMPUTED_RENT', 'RENTVAL', 'FURNISHING',\n",
       "       'HEALTH', 'TRANSPORT', 'COMMUNICATION', 'RECREATION', 'EDUCATION',\n",
       "       'INSURANCE', 'MISCELLANEOUS', 'DURABLE', 'OCCASION',\n",
       "       'OTHER_EXPENDITURE', 'OTHER_DISBURSEMENT', 'FOOD_ACCOM_SRVC', 'NFOOD',\n",
       "       'TOINC', 'TOTEX', 'TOTDIS', 'OTHREC', 'TOREC', 'RPSU', 'RFACT',\n",
       "       'MEM_RFACT', 'URB', 'PERCAPITA', 'NPCINC', 'RPCINC', 'PRPCINC',\n",
       "       'PPCINC', 'RPCINC_NIR', 'W_REGN_NIR'],\n",
       "      dtype='object')"
      ]
     },
     "execution_count": 79,
     "metadata": {},
     "output_type": "execute_result"
    }
   ],
   "source": [
    "df_23.columns"
   ]
  },
  {
   "cell_type": "code",
   "execution_count": 80,
   "metadata": {},
   "outputs": [],
   "source": [
    "# Since there are discrepancies between the 2021 and 2023 dataset. We will follow the better described columns between the two datasets.\n",
    "# For example, the SEQUENCE_NO in the 2021 dataset is described as \"Sequence No.\" while in the 2023 dataset it is described as \"Household ID\"\n",
    "\n",
    "df_21.rename(columns={'SEQUENCE_NO': 'SEQ_NO'}, inplace=True)"
   ]
  },
  {
   "cell_type": "code",
   "execution_count": 81,
   "metadata": {},
   "outputs": [],
   "source": [
    "# Since `BWEIGHT` does not exist in the 2023 dataset, we will drop it from the 2021 dataset to retain consistency.\n",
    "\n",
    "df_21.drop(columns=['BWEIGHT'], inplace=True)"
   ]
  },
  {
   "cell_type": "code",
   "execution_count": 82,
   "metadata": {},
   "outputs": [],
   "source": [
    "df_21.rename(columns={'RFACT': 'FAMILY_WEIGHT'}, inplace=True)\n",
    "df_23.rename(columns={'RFACT': 'FAMILY_WEIGHT'}, inplace=True)"
   ]
  },
  {
   "cell_type": "code",
   "execution_count": 83,
   "metadata": {},
   "outputs": [],
   "source": [
    "df_21.rename(columns={'RFACT_POP': 'POPULATION_WEIGHT'}, inplace=True)\n",
    "df_23.rename(columns={'MEM_RFACT': 'POPULATION_WEIGHT'}, inplace=True)"
   ]
  },
  {
   "cell_type": "code",
   "execution_count": 84,
   "metadata": {},
   "outputs": [],
   "source": [
    "df_23.rename(columns={'PERCAPITA': 'PCINC'}, inplace=True)\n",
    "df_23.drop(columns=['PPCINC'], inplace=True)\n",
    "df_23.rename(columns={'PRPCINC': 'PPCINC'}, inplace=True)"
   ]
  },
  {
   "cell_type": "code",
   "execution_count": 85,
   "metadata": {},
   "outputs": [],
   "source": [
    "df_23.drop(columns=['RPCINC_NIR'], inplace=True)"
   ]
  },
  {
   "cell_type": "code",
   "execution_count": 86,
   "metadata": {},
   "outputs": [],
   "source": [
    "df_23.drop(columns=['W_REGN_NIR'], inplace=True)"
   ]
  },
  {
   "cell_type": "code",
   "execution_count": 87,
   "metadata": {},
   "outputs": [],
   "source": [
    "df_21.rename(columns={'FSIZE': 'AVG_FSIZE'}, inplace=True)\n",
    "df_23.rename(columns={'FSIZE': 'AVG_FSIZE'}, inplace=True)"
   ]
  },
  {
   "cell_type": "code",
   "execution_count": 88,
   "metadata": {},
   "outputs": [
    {
     "name": "stdout",
     "output_type": "stream",
     "text": [
      "<class 'pandas.core.frame.DataFrame'>\n",
      "RangeIndex: 165029 entries, 0 to 165028\n",
      "Data columns (total 87 columns):\n",
      " #   Column                        Non-Null Count   Dtype  \n",
      "---  ------                        --------------   -----  \n",
      " 0   W_REGN                        165029 non-null  int64  \n",
      " 1   W_PROV                        165029 non-null  int64  \n",
      " 2   SEQ_NO                        165029 non-null  int64  \n",
      " 3   AVG_FSIZE                     165029 non-null  float64\n",
      " 4   REG_SAL                       165029 non-null  int64  \n",
      " 5   SEASON_SAL                    165029 non-null  int64  \n",
      " 6   WAGES                         165029 non-null  int64  \n",
      " 7   NETSHARE                      165029 non-null  int64  \n",
      " 8   CASH_ABROAD                   165029 non-null  int64  \n",
      " 9   CASH_DOMESTIC                 165029 non-null  int64  \n",
      " 10  RENTALS_REC                   165029 non-null  int64  \n",
      " 11  INTEREST                      165029 non-null  int64  \n",
      " 12  PENSION                       165029 non-null  int64  \n",
      " 13  DIVIDENDS                     165029 non-null  int64  \n",
      " 14  OTHER_SOURCE                  165029 non-null  int64  \n",
      " 15  NET_RECEIPT                   165029 non-null  int64  \n",
      " 16  REGFT                         165029 non-null  int64  \n",
      " 17  NET_CFG                       165029 non-null  int64  \n",
      " 18  NET_LPR                       165029 non-null  int64  \n",
      " 19  NET_FISH                      165029 non-null  int64  \n",
      " 20  NET_FOR                       165029 non-null  int64  \n",
      " 21  NET_RET                       165029 non-null  int64  \n",
      " 22  NET_MFG                       165029 non-null  int64  \n",
      " 23  NET_TRANS                     165029 non-null  int64  \n",
      " 24  NET_NEC_A8                    165029 non-null  int64  \n",
      " 25  NET_NEC_A9                    165029 non-null  int64  \n",
      " 26  NET_NEC_A10                   165029 non-null  int64  \n",
      " 27  EAINC                         165029 non-null  int64  \n",
      " 28  TOINC                         165029 non-null  int64  \n",
      " 29  LOSSES                        165029 non-null  int64  \n",
      " 30  BREAD                         165029 non-null  int64  \n",
      " 31  MEAT                          165029 non-null  int64  \n",
      " 32  FISH                          165029 non-null  int64  \n",
      " 33  MILK                          165029 non-null  int64  \n",
      " 34  OIL                           165029 non-null  int64  \n",
      " 35  FRUIT                         165029 non-null  int64  \n",
      " 36  VEG                           165029 non-null  int64  \n",
      " 37  SUGAR                         165029 non-null  int64  \n",
      " 38  FOOD_NEC                      165029 non-null  int64  \n",
      " 39  FRUIT_VEG                     165029 non-null  int64  \n",
      " 40  COFFEE                        165029 non-null  int64  \n",
      " 41  TEA                           165029 non-null  int64  \n",
      " 42  COCOA                         165029 non-null  int64  \n",
      " 43  WATER                         165029 non-null  int64  \n",
      " 44  SOFTDRINKS                    165029 non-null  int64  \n",
      " 45  OTHER_NON_ALCOHOL             165029 non-null  int64  \n",
      " 46  ALCOHOL                       165029 non-null  int64  \n",
      " 47  TOBACCO                       165029 non-null  int64  \n",
      " 48  OTHER_VEG                     165029 non-null  int64  \n",
      " 49  SERVICES_PRIMARY_GOODS        165029 non-null  int64  \n",
      " 50  ALCOHOL_PROCDUCTION_SERVICES  165029 non-null  int64  \n",
      " 51  FOOD_HOME                     165029 non-null  int64  \n",
      " 52  FOOD_OUTSIDE                  165029 non-null  int64  \n",
      " 53  FOOD                          165029 non-null  int64  \n",
      " 54  CLOTH                         165029 non-null  int64  \n",
      " 55  FURNISHING                    165029 non-null  int64  \n",
      " 56  HEALTH                        165029 non-null  int64  \n",
      " 57  HOUSING_WATER                 165029 non-null  int64  \n",
      " 58  ACTRENT                       165029 non-null  int64  \n",
      " 59  RENTVAL                       165029 non-null  int64  \n",
      " 60  IMPUTED_RENT                  165029 non-null  int64  \n",
      " 61  BIMPUTED_RENT                 165029 non-null  int64  \n",
      " 62  TRANSPORT                     165029 non-null  int64  \n",
      " 63  COMMUNICATION                 165029 non-null  int64  \n",
      " 64  RECREATION                    165029 non-null  int64  \n",
      " 65  EDUCATION                     165029 non-null  int64  \n",
      " 66  INSURANCE                     165029 non-null  int64  \n",
      " 67  MISCELLANEOUS                 165029 non-null  int64  \n",
      " 68  DURABLE                       165029 non-null  int64  \n",
      " 69  OCCASION                      165029 non-null  int64  \n",
      " 70  OTHER_EXPENDITURE             165029 non-null  int64  \n",
      " 71  OTHER_DISBURSEMENT            165029 non-null  int64  \n",
      " 72  FOOD_ACCOM_SRVC               165029 non-null  int64  \n",
      " 73  NFOOD                         165029 non-null  int64  \n",
      " 74  TOTEX                         165029 non-null  int64  \n",
      " 75  TOTDIS                        165029 non-null  int64  \n",
      " 76  OTHREC                        165029 non-null  int64  \n",
      " 77  TOREC                         165029 non-null  int64  \n",
      " 78  URB                           165029 non-null  int64  \n",
      " 79  RPROV                         165029 non-null  int64  \n",
      " 80  RPSU                          165029 non-null  int64  \n",
      " 81  FAMILY_WEIGHT                 165029 non-null  float64\n",
      " 82  POPULATION_WEIGHT             165029 non-null  float64\n",
      " 83  PCINC                         165029 non-null  float64\n",
      " 84  NPCINC                        165029 non-null  float64\n",
      " 85  RPCINC                        165029 non-null  float64\n",
      " 86  PPCINC                        165029 non-null  float64\n",
      "dtypes: float64(7), int64(80)\n",
      "memory usage: 109.5 MB\n"
     ]
    }
   ],
   "source": [
    "df_21.info()"
   ]
  },
  {
   "cell_type": "code",
   "execution_count": 89,
   "metadata": {},
   "outputs": [
    {
     "data": {
      "text/html": [
       "<div>\n",
       "<style scoped>\n",
       "    .dataframe tbody tr th:only-of-type {\n",
       "        vertical-align: middle;\n",
       "    }\n",
       "\n",
       "    .dataframe tbody tr th {\n",
       "        vertical-align: top;\n",
       "    }\n",
       "\n",
       "    .dataframe thead th {\n",
       "        text-align: right;\n",
       "    }\n",
       "</style>\n",
       "<table border=\"1\" class=\"dataframe\">\n",
       "  <thead>\n",
       "    <tr style=\"text-align: right;\">\n",
       "      <th></th>\n",
       "      <th>W_REGN</th>\n",
       "      <th>W_PROV</th>\n",
       "      <th>SEQ_NO</th>\n",
       "      <th>AVG_FSIZE</th>\n",
       "      <th>REG_SAL</th>\n",
       "      <th>SEASON_SAL</th>\n",
       "      <th>WAGES</th>\n",
       "      <th>NETSHARE</th>\n",
       "      <th>CASH_ABROAD</th>\n",
       "      <th>CASH_DOMESTIC</th>\n",
       "      <th>...</th>\n",
       "      <th>TOREC</th>\n",
       "      <th>URB</th>\n",
       "      <th>RPROV</th>\n",
       "      <th>RPSU</th>\n",
       "      <th>FAMILY_WEIGHT</th>\n",
       "      <th>POPULATION_WEIGHT</th>\n",
       "      <th>PCINC</th>\n",
       "      <th>NPCINC</th>\n",
       "      <th>RPCINC</th>\n",
       "      <th>PPCINC</th>\n",
       "    </tr>\n",
       "  </thead>\n",
       "  <tbody>\n",
       "    <tr>\n",
       "      <th>143344</th>\n",
       "      <td>15</td>\n",
       "      <td>36</td>\n",
       "      <td>143345</td>\n",
       "      <td>9.00</td>\n",
       "      <td>80000</td>\n",
       "      <td>98400</td>\n",
       "      <td>178400</td>\n",
       "      <td>0</td>\n",
       "      <td>28800</td>\n",
       "      <td>16200</td>\n",
       "      <td>...</td>\n",
       "      <td>325900</td>\n",
       "      <td>2</td>\n",
       "      <td>3600</td>\n",
       "      <td>63</td>\n",
       "      <td>63.60</td>\n",
       "      <td>74.26</td>\n",
       "      <td>30322.22</td>\n",
       "      <td>2.00</td>\n",
       "      <td>4.00</td>\n",
       "      <td>2.00</td>\n",
       "    </tr>\n",
       "    <tr>\n",
       "      <th>112529</th>\n",
       "      <td>13</td>\n",
       "      <td>74</td>\n",
       "      <td>112530</td>\n",
       "      <td>4.00</td>\n",
       "      <td>195000</td>\n",
       "      <td>90500</td>\n",
       "      <td>285500</td>\n",
       "      <td>0</td>\n",
       "      <td>6000</td>\n",
       "      <td>16000</td>\n",
       "      <td>...</td>\n",
       "      <td>446500</td>\n",
       "      <td>1</td>\n",
       "      <td>7402</td>\n",
       "      <td>281</td>\n",
       "      <td>122.61</td>\n",
       "      <td>127.83</td>\n",
       "      <td>85375.00</td>\n",
       "      <td>7.00</td>\n",
       "      <td>5.00</td>\n",
       "      <td>5.00</td>\n",
       "    </tr>\n",
       "    <tr>\n",
       "      <th>84771</th>\n",
       "      <td>10</td>\n",
       "      <td>35</td>\n",
       "      <td>84772</td>\n",
       "      <td>3.00</td>\n",
       "      <td>152900</td>\n",
       "      <td>0</td>\n",
       "      <td>152900</td>\n",
       "      <td>0</td>\n",
       "      <td>0</td>\n",
       "      <td>0</td>\n",
       "      <td>...</td>\n",
       "      <td>153140</td>\n",
       "      <td>1</td>\n",
       "      <td>3504</td>\n",
       "      <td>274</td>\n",
       "      <td>52.19</td>\n",
       "      <td>51.55</td>\n",
       "      <td>51046.67</td>\n",
       "      <td>5.00</td>\n",
       "      <td>6.00</td>\n",
       "      <td>5.00</td>\n",
       "    </tr>\n",
       "    <tr>\n",
       "      <th>97346</th>\n",
       "      <td>11</td>\n",
       "      <td>25</td>\n",
       "      <td>97347</td>\n",
       "      <td>10.00</td>\n",
       "      <td>0</td>\n",
       "      <td>97600</td>\n",
       "      <td>97600</td>\n",
       "      <td>27000</td>\n",
       "      <td>0</td>\n",
       "      <td>15600</td>\n",
       "      <td>...</td>\n",
       "      <td>212709</td>\n",
       "      <td>2</td>\n",
       "      <td>2500</td>\n",
       "      <td>372</td>\n",
       "      <td>87.51</td>\n",
       "      <td>83.31</td>\n",
       "      <td>21270.90</td>\n",
       "      <td>1.00</td>\n",
       "      <td>1.00</td>\n",
       "      <td>1.00</td>\n",
       "    </tr>\n",
       "    <tr>\n",
       "      <th>137403</th>\n",
       "      <td>14</td>\n",
       "      <td>32</td>\n",
       "      <td>137404</td>\n",
       "      <td>3.00</td>\n",
       "      <td>252600</td>\n",
       "      <td>0</td>\n",
       "      <td>252600</td>\n",
       "      <td>0</td>\n",
       "      <td>0</td>\n",
       "      <td>0</td>\n",
       "      <td>...</td>\n",
       "      <td>383940</td>\n",
       "      <td>2</td>\n",
       "      <td>3200</td>\n",
       "      <td>108</td>\n",
       "      <td>22.70</td>\n",
       "      <td>22.57</td>\n",
       "      <td>127980.00</td>\n",
       "      <td>9.00</td>\n",
       "      <td>8.00</td>\n",
       "      <td>9.00</td>\n",
       "    </tr>\n",
       "    <tr>\n",
       "      <th>48657</th>\n",
       "      <td>6</td>\n",
       "      <td>30</td>\n",
       "      <td>48658</td>\n",
       "      <td>3.50</td>\n",
       "      <td>0</td>\n",
       "      <td>0</td>\n",
       "      <td>0</td>\n",
       "      <td>0</td>\n",
       "      <td>390000</td>\n",
       "      <td>3000</td>\n",
       "      <td>...</td>\n",
       "      <td>465000</td>\n",
       "      <td>1</td>\n",
       "      <td>3022</td>\n",
       "      <td>42</td>\n",
       "      <td>61.10</td>\n",
       "      <td>68.98</td>\n",
       "      <td>132857.14</td>\n",
       "      <td>9.00</td>\n",
       "      <td>9.00</td>\n",
       "      <td>8.00</td>\n",
       "    </tr>\n",
       "    <tr>\n",
       "      <th>159443</th>\n",
       "      <td>17</td>\n",
       "      <td>52</td>\n",
       "      <td>159444</td>\n",
       "      <td>4.00</td>\n",
       "      <td>72000</td>\n",
       "      <td>180880</td>\n",
       "      <td>252880</td>\n",
       "      <td>0</td>\n",
       "      <td>30000</td>\n",
       "      <td>12000</td>\n",
       "      <td>...</td>\n",
       "      <td>349468</td>\n",
       "      <td>1</td>\n",
       "      <td>5200</td>\n",
       "      <td>2</td>\n",
       "      <td>138.94</td>\n",
       "      <td>146.86</td>\n",
       "      <td>87367.00</td>\n",
       "      <td>7.00</td>\n",
       "      <td>8.00</td>\n",
       "      <td>8.00</td>\n",
       "    </tr>\n",
       "    <tr>\n",
       "      <th>138684</th>\n",
       "      <td>14</td>\n",
       "      <td>44</td>\n",
       "      <td>138685</td>\n",
       "      <td>6.50</td>\n",
       "      <td>157000</td>\n",
       "      <td>50000</td>\n",
       "      <td>207000</td>\n",
       "      <td>0</td>\n",
       "      <td>0</td>\n",
       "      <td>12000</td>\n",
       "      <td>...</td>\n",
       "      <td>292599</td>\n",
       "      <td>2</td>\n",
       "      <td>4400</td>\n",
       "      <td>17</td>\n",
       "      <td>17.41</td>\n",
       "      <td>18.14</td>\n",
       "      <td>45015.23</td>\n",
       "      <td>4.00</td>\n",
       "      <td>3.00</td>\n",
       "      <td>4.00</td>\n",
       "    </tr>\n",
       "    <tr>\n",
       "      <th>114091</th>\n",
       "      <td>13</td>\n",
       "      <td>74</td>\n",
       "      <td>114092</td>\n",
       "      <td>3.00</td>\n",
       "      <td>178760</td>\n",
       "      <td>0</td>\n",
       "      <td>178760</td>\n",
       "      <td>0</td>\n",
       "      <td>84000</td>\n",
       "      <td>18000</td>\n",
       "      <td>...</td>\n",
       "      <td>531675</td>\n",
       "      <td>1</td>\n",
       "      <td>7403</td>\n",
       "      <td>26</td>\n",
       "      <td>108.38</td>\n",
       "      <td>109.20</td>\n",
       "      <td>177025.00</td>\n",
       "      <td>10.00</td>\n",
       "      <td>9.00</td>\n",
       "      <td>9.00</td>\n",
       "    </tr>\n",
       "    <tr>\n",
       "      <th>76579</th>\n",
       "      <td>9</td>\n",
       "      <td>73</td>\n",
       "      <td>76580</td>\n",
       "      <td>5.50</td>\n",
       "      <td>0</td>\n",
       "      <td>43800</td>\n",
       "      <td>43800</td>\n",
       "      <td>0</td>\n",
       "      <td>4000</td>\n",
       "      <td>0</td>\n",
       "      <td>...</td>\n",
       "      <td>144865</td>\n",
       "      <td>2</td>\n",
       "      <td>7300</td>\n",
       "      <td>90</td>\n",
       "      <td>141.51</td>\n",
       "      <td>142.41</td>\n",
       "      <td>24520.91</td>\n",
       "      <td>1.00</td>\n",
       "      <td>2.00</td>\n",
       "      <td>3.00</td>\n",
       "    </tr>\n",
       "  </tbody>\n",
       "</table>\n",
       "<p>10 rows × 87 columns</p>\n",
       "</div>"
      ],
      "text/plain": [
       "        W_REGN  W_PROV  SEQ_NO  AVG_FSIZE  REG_SAL  SEASON_SAL   WAGES  \\\n",
       "143344      15      36  143345       9.00    80000       98400  178400   \n",
       "112529      13      74  112530       4.00   195000       90500  285500   \n",
       "84771       10      35   84772       3.00   152900           0  152900   \n",
       "97346       11      25   97347      10.00        0       97600   97600   \n",
       "137403      14      32  137404       3.00   252600           0  252600   \n",
       "48657        6      30   48658       3.50        0           0       0   \n",
       "159443      17      52  159444       4.00    72000      180880  252880   \n",
       "138684      14      44  138685       6.50   157000       50000  207000   \n",
       "114091      13      74  114092       3.00   178760           0  178760   \n",
       "76579        9      73   76580       5.50        0       43800   43800   \n",
       "\n",
       "        NETSHARE  CASH_ABROAD  CASH_DOMESTIC  ...   TOREC  URB  RPROV  RPSU  \\\n",
       "143344         0        28800          16200  ...  325900    2   3600    63   \n",
       "112529         0         6000          16000  ...  446500    1   7402   281   \n",
       "84771          0            0              0  ...  153140    1   3504   274   \n",
       "97346      27000            0          15600  ...  212709    2   2500   372   \n",
       "137403         0            0              0  ...  383940    2   3200   108   \n",
       "48657          0       390000           3000  ...  465000    1   3022    42   \n",
       "159443         0        30000          12000  ...  349468    1   5200     2   \n",
       "138684         0            0          12000  ...  292599    2   4400    17   \n",
       "114091         0        84000          18000  ...  531675    1   7403    26   \n",
       "76579          0         4000              0  ...  144865    2   7300    90   \n",
       "\n",
       "        FAMILY_WEIGHT  POPULATION_WEIGHT     PCINC  NPCINC  RPCINC  PPCINC  \n",
       "143344          63.60              74.26  30322.22    2.00    4.00    2.00  \n",
       "112529         122.61             127.83  85375.00    7.00    5.00    5.00  \n",
       "84771           52.19              51.55  51046.67    5.00    6.00    5.00  \n",
       "97346           87.51              83.31  21270.90    1.00    1.00    1.00  \n",
       "137403          22.70              22.57 127980.00    9.00    8.00    9.00  \n",
       "48657           61.10              68.98 132857.14    9.00    9.00    8.00  \n",
       "159443         138.94             146.86  87367.00    7.00    8.00    8.00  \n",
       "138684          17.41              18.14  45015.23    4.00    3.00    4.00  \n",
       "114091         108.38             109.20 177025.00   10.00    9.00    9.00  \n",
       "76579          141.51             142.41  24520.91    1.00    2.00    3.00  \n",
       "\n",
       "[10 rows x 87 columns]"
      ]
     },
     "execution_count": 89,
     "metadata": {},
     "output_type": "execute_result"
    }
   ],
   "source": [
    "df_21.sample(10)"
   ]
  },
  {
   "cell_type": "code",
   "execution_count": 90,
   "metadata": {},
   "outputs": [
    {
     "data": {
      "text/html": [
       "<div>\n",
       "<style scoped>\n",
       "    .dataframe tbody tr th:only-of-type {\n",
       "        vertical-align: middle;\n",
       "    }\n",
       "\n",
       "    .dataframe tbody tr th {\n",
       "        vertical-align: top;\n",
       "    }\n",
       "\n",
       "    .dataframe thead th {\n",
       "        text-align: right;\n",
       "    }\n",
       "</style>\n",
       "<table border=\"1\" class=\"dataframe\">\n",
       "  <thead>\n",
       "    <tr style=\"text-align: right;\">\n",
       "      <th></th>\n",
       "      <th>W_REGN</th>\n",
       "      <th>W_PROV</th>\n",
       "      <th>SEQ_NO</th>\n",
       "      <th>AVG_FSIZE</th>\n",
       "      <th>REG_SAL</th>\n",
       "      <th>SEASON_SAL</th>\n",
       "      <th>WAGES</th>\n",
       "      <th>NETSHARE</th>\n",
       "      <th>CASH_ABROAD</th>\n",
       "      <th>CASH_DOMESTIC</th>\n",
       "      <th>...</th>\n",
       "      <th>TOREC</th>\n",
       "      <th>URB</th>\n",
       "      <th>RPROV</th>\n",
       "      <th>RPSU</th>\n",
       "      <th>FAMILY_WEIGHT</th>\n",
       "      <th>POPULATION_WEIGHT</th>\n",
       "      <th>PCINC</th>\n",
       "      <th>NPCINC</th>\n",
       "      <th>RPCINC</th>\n",
       "      <th>PPCINC</th>\n",
       "    </tr>\n",
       "  </thead>\n",
       "  <tbody>\n",
       "    <tr>\n",
       "      <th>count</th>\n",
       "      <td>165029.00</td>\n",
       "      <td>165029.00</td>\n",
       "      <td>165029.00</td>\n",
       "      <td>165029.00</td>\n",
       "      <td>165029.00</td>\n",
       "      <td>165029.00</td>\n",
       "      <td>165029.00</td>\n",
       "      <td>165029.00</td>\n",
       "      <td>165029.00</td>\n",
       "      <td>165029.00</td>\n",
       "      <td>...</td>\n",
       "      <td>165029.00</td>\n",
       "      <td>165029.00</td>\n",
       "      <td>165029.00</td>\n",
       "      <td>165029.00</td>\n",
       "      <td>165029.00</td>\n",
       "      <td>165029.00</td>\n",
       "      <td>165029.00</td>\n",
       "      <td>165029.00</td>\n",
       "      <td>165029.00</td>\n",
       "      <td>165029.00</td>\n",
       "    </tr>\n",
       "    <tr>\n",
       "      <th>mean</th>\n",
       "      <td>9.27</td>\n",
       "      <td>45.66</td>\n",
       "      <td>82515.00</td>\n",
       "      <td>4.24</td>\n",
       "      <td>125300.56</td>\n",
       "      <td>25109.55</td>\n",
       "      <td>150410.11</td>\n",
       "      <td>1808.75</td>\n",
       "      <td>20017.54</td>\n",
       "      <td>16718.44</td>\n",
       "      <td>...</td>\n",
       "      <td>308397.95</td>\n",
       "      <td>1.52</td>\n",
       "      <td>4568.17</td>\n",
       "      <td>386.17</td>\n",
       "      <td>159.96</td>\n",
       "      <td>157.99</td>\n",
       "      <td>81850.92</td>\n",
       "      <td>5.29</td>\n",
       "      <td>5.53</td>\n",
       "      <td>5.49</td>\n",
       "    </tr>\n",
       "    <tr>\n",
       "      <th>std</th>\n",
       "      <td>4.70</td>\n",
       "      <td>24.89</td>\n",
       "      <td>47639.91</td>\n",
       "      <td>2.03</td>\n",
       "      <td>205360.38</td>\n",
       "      <td>47930.15</td>\n",
       "      <td>207443.14</td>\n",
       "      <td>14886.86</td>\n",
       "      <td>77520.00</td>\n",
       "      <td>31501.17</td>\n",
       "      <td>...</td>\n",
       "      <td>369101.24</td>\n",
       "      <td>0.50</td>\n",
       "      <td>2488.66</td>\n",
       "      <td>448.86</td>\n",
       "      <td>153.63</td>\n",
       "      <td>149.12</td>\n",
       "      <td>101006.56</td>\n",
       "      <td>2.90</td>\n",
       "      <td>2.88</td>\n",
       "      <td>2.87</td>\n",
       "    </tr>\n",
       "    <tr>\n",
       "      <th>min</th>\n",
       "      <td>1.00</td>\n",
       "      <td>1.00</td>\n",
       "      <td>1.00</td>\n",
       "      <td>1.00</td>\n",
       "      <td>0.00</td>\n",
       "      <td>0.00</td>\n",
       "      <td>0.00</td>\n",
       "      <td>0.00</td>\n",
       "      <td>0.00</td>\n",
       "      <td>0.00</td>\n",
       "      <td>...</td>\n",
       "      <td>10374.00</td>\n",
       "      <td>1.00</td>\n",
       "      <td>100.00</td>\n",
       "      <td>1.00</td>\n",
       "      <td>4.86</td>\n",
       "      <td>5.30</td>\n",
       "      <td>5408.62</td>\n",
       "      <td>1.00</td>\n",
       "      <td>1.00</td>\n",
       "      <td>1.00</td>\n",
       "    </tr>\n",
       "    <tr>\n",
       "      <th>25%</th>\n",
       "      <td>5.00</td>\n",
       "      <td>24.00</td>\n",
       "      <td>41258.00</td>\n",
       "      <td>3.00</td>\n",
       "      <td>0.00</td>\n",
       "      <td>0.00</td>\n",
       "      <td>21600.00</td>\n",
       "      <td>0.00</td>\n",
       "      <td>0.00</td>\n",
       "      <td>0.00</td>\n",
       "      <td>...</td>\n",
       "      <td>142900.00</td>\n",
       "      <td>1.00</td>\n",
       "      <td>2402.00</td>\n",
       "      <td>102.00</td>\n",
       "      <td>65.90</td>\n",
       "      <td>65.40</td>\n",
       "      <td>35403.00</td>\n",
       "      <td>3.00</td>\n",
       "      <td>3.00</td>\n",
       "      <td>3.00</td>\n",
       "    </tr>\n",
       "    <tr>\n",
       "      <th>50%</th>\n",
       "      <td>10.00</td>\n",
       "      <td>45.00</td>\n",
       "      <td>82515.00</td>\n",
       "      <td>4.00</td>\n",
       "      <td>56000.00</td>\n",
       "      <td>0.00</td>\n",
       "      <td>93000.00</td>\n",
       "      <td>0.00</td>\n",
       "      <td>0.00</td>\n",
       "      <td>8000.00</td>\n",
       "      <td>...</td>\n",
       "      <td>216980.00</td>\n",
       "      <td>2.00</td>\n",
       "      <td>4501.00</td>\n",
       "      <td>239.00</td>\n",
       "      <td>110.72</td>\n",
       "      <td>109.51</td>\n",
       "      <td>55432.00</td>\n",
       "      <td>5.00</td>\n",
       "      <td>6.00</td>\n",
       "      <td>5.00</td>\n",
       "    </tr>\n",
       "    <tr>\n",
       "      <th>75%</th>\n",
       "      <td>13.00</td>\n",
       "      <td>70.00</td>\n",
       "      <td>123772.00</td>\n",
       "      <td>5.50</td>\n",
       "      <td>165400.00</td>\n",
       "      <td>36000.00</td>\n",
       "      <td>191900.00</td>\n",
       "      <td>0.00</td>\n",
       "      <td>2000.00</td>\n",
       "      <td>21600.00</td>\n",
       "      <td>...</td>\n",
       "      <td>353216.00</td>\n",
       "      <td>2.00</td>\n",
       "      <td>7000.00</td>\n",
       "      <td>478.00</td>\n",
       "      <td>186.29</td>\n",
       "      <td>186.52</td>\n",
       "      <td>94000.00</td>\n",
       "      <td>8.00</td>\n",
       "      <td>8.00</td>\n",
       "      <td>8.00</td>\n",
       "    </tr>\n",
       "    <tr>\n",
       "      <th>max</th>\n",
       "      <td>17.00</td>\n",
       "      <td>98.00</td>\n",
       "      <td>165029.00</td>\n",
       "      <td>23.00</td>\n",
       "      <td>6821000.00</td>\n",
       "      <td>4290000.00</td>\n",
       "      <td>6821000.00</td>\n",
       "      <td>3901650.00</td>\n",
       "      <td>5130000.00</td>\n",
       "      <td>3000000.00</td>\n",
       "      <td>...</td>\n",
       "      <td>20736058.00</td>\n",
       "      <td>2.00</td>\n",
       "      <td>9804.00</td>\n",
       "      <td>3086.00</td>\n",
       "      <td>3950.61</td>\n",
       "      <td>4029.51</td>\n",
       "      <td>9691285.00</td>\n",
       "      <td>10.00</td>\n",
       "      <td>10.00</td>\n",
       "      <td>10.00</td>\n",
       "    </tr>\n",
       "  </tbody>\n",
       "</table>\n",
       "<p>8 rows × 87 columns</p>\n",
       "</div>"
      ],
      "text/plain": [
       "         W_REGN    W_PROV    SEQ_NO  AVG_FSIZE    REG_SAL  SEASON_SAL  \\\n",
       "count 165029.00 165029.00 165029.00  165029.00  165029.00   165029.00   \n",
       "mean       9.27     45.66  82515.00       4.24  125300.56    25109.55   \n",
       "std        4.70     24.89  47639.91       2.03  205360.38    47930.15   \n",
       "min        1.00      1.00      1.00       1.00       0.00        0.00   \n",
       "25%        5.00     24.00  41258.00       3.00       0.00        0.00   \n",
       "50%       10.00     45.00  82515.00       4.00   56000.00        0.00   \n",
       "75%       13.00     70.00 123772.00       5.50  165400.00    36000.00   \n",
       "max       17.00     98.00 165029.00      23.00 6821000.00  4290000.00   \n",
       "\n",
       "           WAGES   NETSHARE  CASH_ABROAD  CASH_DOMESTIC  ...       TOREC  \\\n",
       "count  165029.00  165029.00    165029.00      165029.00  ...   165029.00   \n",
       "mean   150410.11    1808.75     20017.54       16718.44  ...   308397.95   \n",
       "std    207443.14   14886.86     77520.00       31501.17  ...   369101.24   \n",
       "min         0.00       0.00         0.00           0.00  ...    10374.00   \n",
       "25%     21600.00       0.00         0.00           0.00  ...   142900.00   \n",
       "50%     93000.00       0.00         0.00        8000.00  ...   216980.00   \n",
       "75%    191900.00       0.00      2000.00       21600.00  ...   353216.00   \n",
       "max   6821000.00 3901650.00   5130000.00     3000000.00  ... 20736058.00   \n",
       "\n",
       "            URB     RPROV      RPSU  FAMILY_WEIGHT  POPULATION_WEIGHT  \\\n",
       "count 165029.00 165029.00 165029.00      165029.00          165029.00   \n",
       "mean       1.52   4568.17    386.17         159.96             157.99   \n",
       "std        0.50   2488.66    448.86         153.63             149.12   \n",
       "min        1.00    100.00      1.00           4.86               5.30   \n",
       "25%        1.00   2402.00    102.00          65.90              65.40   \n",
       "50%        2.00   4501.00    239.00         110.72             109.51   \n",
       "75%        2.00   7000.00    478.00         186.29             186.52   \n",
       "max        2.00   9804.00   3086.00        3950.61            4029.51   \n",
       "\n",
       "           PCINC    NPCINC    RPCINC    PPCINC  \n",
       "count  165029.00 165029.00 165029.00 165029.00  \n",
       "mean    81850.92      5.29      5.53      5.49  \n",
       "std    101006.56      2.90      2.88      2.87  \n",
       "min      5408.62      1.00      1.00      1.00  \n",
       "25%     35403.00      3.00      3.00      3.00  \n",
       "50%     55432.00      5.00      6.00      5.00  \n",
       "75%     94000.00      8.00      8.00      8.00  \n",
       "max   9691285.00     10.00     10.00     10.00  \n",
       "\n",
       "[8 rows x 87 columns]"
      ]
     },
     "execution_count": 90,
     "metadata": {},
     "output_type": "execute_result"
    }
   ],
   "source": [
    "# To avoid scientific notation formatting\n",
    "pd.set_option('display.float_format', '{:.2f}'.format)\n",
    "\n",
    "df_21.describe()"
   ]
  },
  {
   "cell_type": "code",
   "execution_count": 91,
   "metadata": {},
   "outputs": [
    {
     "data": {
      "text/plain": [
       "Index(['W_REGN', 'W_PROV', 'SEQ_NO', 'AVG_FSIZE', 'REG_SAL', 'SEASON_SAL',\n",
       "       'WAGES', 'NETSHARE', 'CASH_ABROAD', 'CASH_DOMESTIC', 'RENTALS_REC',\n",
       "       'INTEREST', 'PENSION', 'DIVIDENDS', 'OTHER_SOURCE', 'NET_RECEIPT',\n",
       "       'REGFT', 'NET_CFG', 'NET_LPR', 'NET_FISH', 'NET_FOR', 'NET_RET',\n",
       "       'NET_MFG', 'NET_TRANS', 'NET_NEC_A8', 'NET_NEC_A9', 'NET_NEC_A10',\n",
       "       'EAINC', 'TOINC', 'LOSSES', 'BREAD', 'MEAT', 'FISH', 'MILK', 'OIL',\n",
       "       'FRUIT', 'VEG', 'SUGAR', 'FOOD_NEC', 'FRUIT_VEG', 'COFFEE', 'TEA',\n",
       "       'COCOA', 'WATER', 'SOFTDRINKS', 'OTHER_NON_ALCOHOL', 'ALCOHOL',\n",
       "       'TOBACCO', 'OTHER_VEG', 'SERVICES_PRIMARY_GOODS',\n",
       "       'ALCOHOL_PROCDUCTION_SERVICES', 'FOOD_HOME', 'FOOD_OUTSIDE', 'FOOD',\n",
       "       'CLOTH', 'FURNISHING', 'HEALTH', 'HOUSING_WATER', 'ACTRENT', 'RENTVAL',\n",
       "       'IMPUTED_RENT', 'BIMPUTED_RENT', 'TRANSPORT', 'COMMUNICATION',\n",
       "       'RECREATION', 'EDUCATION', 'INSURANCE', 'MISCELLANEOUS', 'DURABLE',\n",
       "       'OCCASION', 'OTHER_EXPENDITURE', 'OTHER_DISBURSEMENT',\n",
       "       'FOOD_ACCOM_SRVC', 'NFOOD', 'TOTEX', 'TOTDIS', 'OTHREC', 'TOREC', 'URB',\n",
       "       'RPROV', 'RPSU', 'FAMILY_WEIGHT', 'POPULATION_WEIGHT', 'PCINC',\n",
       "       'NPCINC', 'RPCINC', 'PPCINC'],\n",
       "      dtype='object')"
      ]
     },
     "execution_count": 91,
     "metadata": {},
     "output_type": "execute_result"
    }
   ],
   "source": [
    "df_21.columns"
   ]
  },
  {
   "cell_type": "code",
   "execution_count": 92,
   "metadata": {},
   "outputs": [
    {
     "data": {
      "text/plain": [
       "Index(['W_REGN', 'W_PROV', 'SEQ_NO', 'RPROV', 'AVG_FSIZE', 'REG_SAL',\n",
       "       'SEASON_SAL', 'WAGES', 'NETSHARE', 'CASH_ABROAD', 'CASH_DOMESTIC',\n",
       "       'RENTALS_REC', 'INTEREST', 'PENSION', 'DIVIDENDS', 'OTHER_SOURCE',\n",
       "       'NET_RECEIPT', 'REGFT', 'NET_CFG', 'NET_LPR', 'NET_FISH', 'NET_FOR',\n",
       "       'NET_RET', 'NET_MFG', 'NET_TRANS', 'NET_NEC_A8', 'NET_NEC_A9',\n",
       "       'NET_NEC_A10', 'EAINC', 'LOSSES', 'BREAD', 'MEAT', 'FISH', 'MILK',\n",
       "       'OIL', 'FRUIT', 'VEG', 'SUGAR', 'FOOD_NEC', 'FRUIT_VEG', 'COFFEE',\n",
       "       'TEA', 'COCOA', 'WATER', 'SOFTDRINKS', 'OTHER_NON_ALCOHOL', 'ALCOHOL',\n",
       "       'TOBACCO', 'OTHER_VEG', 'SERVICES_PRIMARY_GOODS',\n",
       "       'ALCOHOL_PROCDUCTION_SERVICES', 'FOOD_HOME', 'FOOD_OUTSIDE', 'FOOD',\n",
       "       'CLOTH', 'HOUSING_WATER', 'ACTRENT', 'IMPUTED_RENT', 'BIMPUTED_RENT',\n",
       "       'RENTVAL', 'FURNISHING', 'HEALTH', 'TRANSPORT', 'COMMUNICATION',\n",
       "       'RECREATION', 'EDUCATION', 'INSURANCE', 'MISCELLANEOUS', 'DURABLE',\n",
       "       'OCCASION', 'OTHER_EXPENDITURE', 'OTHER_DISBURSEMENT',\n",
       "       'FOOD_ACCOM_SRVC', 'NFOOD', 'TOINC', 'TOTEX', 'TOTDIS', 'OTHREC',\n",
       "       'TOREC', 'RPSU', 'FAMILY_WEIGHT', 'POPULATION_WEIGHT', 'URB', 'PCINC',\n",
       "       'NPCINC', 'RPCINC', 'PPCINC'],\n",
       "      dtype='object')"
      ]
     },
     "execution_count": 92,
     "metadata": {},
     "output_type": "execute_result"
    }
   ],
   "source": [
    "df_23.columns"
   ]
  },
  {
   "cell_type": "code",
   "execution_count": 93,
   "metadata": {},
   "outputs": [
    {
     "data": {
      "text/plain": [
       "87"
      ]
     },
     "execution_count": 93,
     "metadata": {},
     "output_type": "execute_result"
    }
   ],
   "source": [
    "df_23.shape[1]"
   ]
  },
  {
   "cell_type": "code",
   "execution_count": 94,
   "metadata": {},
   "outputs": [
    {
     "data": {
      "text/plain": [
       "87"
      ]
     },
     "execution_count": 94,
     "metadata": {},
     "output_type": "execute_result"
    }
   ],
   "source": [
    "df_21.shape[1]"
   ]
  },
  {
   "cell_type": "code",
   "execution_count": 95,
   "metadata": {},
   "outputs": [
    {
     "name": "stdout",
     "output_type": "stream",
     "text": [
      "<class 'pandas.core.frame.DataFrame'>\n",
      "RangeIndex: 165029 entries, 0 to 165028\n",
      "Data columns (total 87 columns):\n",
      " #   Column                        Non-Null Count   Dtype  \n",
      "---  ------                        --------------   -----  \n",
      " 0   W_REGN                        165029 non-null  int64  \n",
      " 1   W_PROV                        165029 non-null  int64  \n",
      " 2   SEQ_NO                        165029 non-null  int64  \n",
      " 3   AVG_FSIZE                     165029 non-null  float64\n",
      " 4   REG_SAL                       165029 non-null  int64  \n",
      " 5   SEASON_SAL                    165029 non-null  int64  \n",
      " 6   WAGES                         165029 non-null  int64  \n",
      " 7   NETSHARE                      165029 non-null  int64  \n",
      " 8   CASH_ABROAD                   165029 non-null  int64  \n",
      " 9   CASH_DOMESTIC                 165029 non-null  int64  \n",
      " 10  RENTALS_REC                   165029 non-null  int64  \n",
      " 11  INTEREST                      165029 non-null  int64  \n",
      " 12  PENSION                       165029 non-null  int64  \n",
      " 13  DIVIDENDS                     165029 non-null  int64  \n",
      " 14  OTHER_SOURCE                  165029 non-null  int64  \n",
      " 15  NET_RECEIPT                   165029 non-null  int64  \n",
      " 16  REGFT                         165029 non-null  int64  \n",
      " 17  NET_CFG                       165029 non-null  int64  \n",
      " 18  NET_LPR                       165029 non-null  int64  \n",
      " 19  NET_FISH                      165029 non-null  int64  \n",
      " 20  NET_FOR                       165029 non-null  int64  \n",
      " 21  NET_RET                       165029 non-null  int64  \n",
      " 22  NET_MFG                       165029 non-null  int64  \n",
      " 23  NET_TRANS                     165029 non-null  int64  \n",
      " 24  NET_NEC_A8                    165029 non-null  int64  \n",
      " 25  NET_NEC_A9                    165029 non-null  int64  \n",
      " 26  NET_NEC_A10                   165029 non-null  int64  \n",
      " 27  EAINC                         165029 non-null  int64  \n",
      " 28  TOINC                         165029 non-null  int64  \n",
      " 29  LOSSES                        165029 non-null  int64  \n",
      " 30  BREAD                         165029 non-null  int64  \n",
      " 31  MEAT                          165029 non-null  int64  \n",
      " 32  FISH                          165029 non-null  int64  \n",
      " 33  MILK                          165029 non-null  int64  \n",
      " 34  OIL                           165029 non-null  int64  \n",
      " 35  FRUIT                         165029 non-null  int64  \n",
      " 36  VEG                           165029 non-null  int64  \n",
      " 37  SUGAR                         165029 non-null  int64  \n",
      " 38  FOOD_NEC                      165029 non-null  int64  \n",
      " 39  FRUIT_VEG                     165029 non-null  int64  \n",
      " 40  COFFEE                        165029 non-null  int64  \n",
      " 41  TEA                           165029 non-null  int64  \n",
      " 42  COCOA                         165029 non-null  int64  \n",
      " 43  WATER                         165029 non-null  int64  \n",
      " 44  SOFTDRINKS                    165029 non-null  int64  \n",
      " 45  OTHER_NON_ALCOHOL             165029 non-null  int64  \n",
      " 46  ALCOHOL                       165029 non-null  int64  \n",
      " 47  TOBACCO                       165029 non-null  int64  \n",
      " 48  OTHER_VEG                     165029 non-null  int64  \n",
      " 49  SERVICES_PRIMARY_GOODS        165029 non-null  int64  \n",
      " 50  ALCOHOL_PROCDUCTION_SERVICES  165029 non-null  int64  \n",
      " 51  FOOD_HOME                     165029 non-null  int64  \n",
      " 52  FOOD_OUTSIDE                  165029 non-null  int64  \n",
      " 53  FOOD                          165029 non-null  int64  \n",
      " 54  CLOTH                         165029 non-null  int64  \n",
      " 55  FURNISHING                    165029 non-null  int64  \n",
      " 56  HEALTH                        165029 non-null  int64  \n",
      " 57  HOUSING_WATER                 165029 non-null  int64  \n",
      " 58  ACTRENT                       165029 non-null  int64  \n",
      " 59  RENTVAL                       165029 non-null  int64  \n",
      " 60  IMPUTED_RENT                  165029 non-null  int64  \n",
      " 61  BIMPUTED_RENT                 165029 non-null  int64  \n",
      " 62  TRANSPORT                     165029 non-null  int64  \n",
      " 63  COMMUNICATION                 165029 non-null  int64  \n",
      " 64  RECREATION                    165029 non-null  int64  \n",
      " 65  EDUCATION                     165029 non-null  int64  \n",
      " 66  INSURANCE                     165029 non-null  int64  \n",
      " 67  MISCELLANEOUS                 165029 non-null  int64  \n",
      " 68  DURABLE                       165029 non-null  int64  \n",
      " 69  OCCASION                      165029 non-null  int64  \n",
      " 70  OTHER_EXPENDITURE             165029 non-null  int64  \n",
      " 71  OTHER_DISBURSEMENT            165029 non-null  int64  \n",
      " 72  FOOD_ACCOM_SRVC               165029 non-null  int64  \n",
      " 73  NFOOD                         165029 non-null  int64  \n",
      " 74  TOTEX                         165029 non-null  int64  \n",
      " 75  TOTDIS                        165029 non-null  int64  \n",
      " 76  OTHREC                        165029 non-null  int64  \n",
      " 77  TOREC                         165029 non-null  int64  \n",
      " 78  URB                           165029 non-null  int64  \n",
      " 79  RPROV                         165029 non-null  int64  \n",
      " 80  RPSU                          165029 non-null  int64  \n",
      " 81  FAMILY_WEIGHT                 165029 non-null  float64\n",
      " 82  POPULATION_WEIGHT             165029 non-null  float64\n",
      " 83  PCINC                         165029 non-null  float64\n",
      " 84  NPCINC                        165029 non-null  float64\n",
      " 85  RPCINC                        165029 non-null  float64\n",
      " 86  PPCINC                        165029 non-null  float64\n",
      "dtypes: float64(7), int64(80)\n",
      "memory usage: 109.5 MB\n"
     ]
    }
   ],
   "source": [
    "df_21.info()"
   ]
  },
  {
   "cell_type": "markdown",
   "metadata": {},
   "source": [
    "### Checking for missing values"
   ]
  },
  {
   "cell_type": "code",
   "execution_count": 104,
   "metadata": {},
   "outputs": [
    {
     "name": "stdout",
     "output_type": "stream",
     "text": [
      "17\n",
      "17\n"
     ]
    }
   ],
   "source": [
    "# Result should be 17 since there are 17 regions in the Philippines\n",
    "print(df_21[\"W_REGN\"].nunique())\n",
    "print(df_23[\"W_REGN\"].nunique())"
   ]
  },
  {
   "cell_type": "code",
   "execution_count": 105,
   "metadata": {},
   "outputs": [
    {
     "name": "stdout",
     "output_type": "stream",
     "text": [
      "87\n",
      "87\n"
     ]
    }
   ],
   "source": [
    "# Result should be 82 since there are 82 provinces in the Philippines. 38 in Luzon, 27 in the Visayas and 17 in Mindanao.\n",
    "print(df_21[\"W_PROV\"].nunique())\n",
    "print(df_23[\"W_PROV\"].nunique())"
   ]
  },
  {
   "cell_type": "code",
   "execution_count": 99,
   "metadata": {},
   "outputs": [
    {
     "data": {
      "text/plain": [
       "W_REGN                0\n",
       "W_PROV                0\n",
       "SEQ_NO                0\n",
       "AVG_FSIZE             0\n",
       "REG_SAL               0\n",
       "SEASON_SAL            0\n",
       "WAGES                 0\n",
       "NETSHARE              0\n",
       "CASH_ABROAD           0\n",
       "CASH_DOMESTIC         0\n",
       "RENTALS_REC           0\n",
       "INTEREST              0\n",
       "PENSION               0\n",
       "DIVIDENDS             0\n",
       "OTHER_SOURCE          0\n",
       "NET_RECEIPT           0\n",
       "REGFT                 0\n",
       "NET_CFG               0\n",
       "NET_LPR               0\n",
       "NET_FISH              0\n",
       "NET_FOR               0\n",
       "NET_RET               0\n",
       "NET_MFG               0\n",
       "NET_TRANS             0\n",
       "NET_NEC_A8            0\n",
       "NET_NEC_A9            0\n",
       "NET_NEC_A10           0\n",
       "EAINC                 0\n",
       "TOINC                 0\n",
       "LOSSES                0\n",
       "                     ..\n",
       "HOUSING_WATER         0\n",
       "ACTRENT               0\n",
       "RENTVAL               0\n",
       "IMPUTED_RENT          0\n",
       "BIMPUTED_RENT         0\n",
       "TRANSPORT             0\n",
       "COMMUNICATION         0\n",
       "RECREATION            0\n",
       "EDUCATION             0\n",
       "INSURANCE             0\n",
       "MISCELLANEOUS         0\n",
       "DURABLE               0\n",
       "OCCASION              0\n",
       "OTHER_EXPENDITURE     0\n",
       "OTHER_DISBURSEMENT    0\n",
       "FOOD_ACCOM_SRVC       0\n",
       "NFOOD                 0\n",
       "TOTEX                 0\n",
       "TOTDIS                0\n",
       "OTHREC                0\n",
       "TOREC                 0\n",
       "URB                   0\n",
       "RPROV                 0\n",
       "RPSU                  0\n",
       "FAMILY_WEIGHT         0\n",
       "POPULATION_WEIGHT     0\n",
       "PCINC                 0\n",
       "NPCINC                0\n",
       "RPCINC                0\n",
       "PPCINC                0\n",
       "Length: 87, dtype: int64"
      ]
     },
     "execution_count": 99,
     "metadata": {},
     "output_type": "execute_result"
    }
   ],
   "source": [
    "# Override pandas display function\n",
    "pd.options.display.min_rows = 87\n",
    "df_21.isnull().sum()"
   ]
  },
  {
   "cell_type": "code",
   "execution_count": 106,
   "metadata": {},
   "outputs": [
    {
     "data": {
      "text/plain": [
       "W_REGN                0\n",
       "W_PROV                0\n",
       "SEQ_NO                0\n",
       "RPROV                 0\n",
       "AVG_FSIZE             0\n",
       "REG_SAL               0\n",
       "SEASON_SAL            0\n",
       "WAGES                 0\n",
       "NETSHARE              0\n",
       "CASH_ABROAD           0\n",
       "CASH_DOMESTIC         0\n",
       "RENTALS_REC           0\n",
       "INTEREST              0\n",
       "PENSION               0\n",
       "DIVIDENDS             0\n",
       "OTHER_SOURCE          0\n",
       "NET_RECEIPT           0\n",
       "REGFT                 0\n",
       "NET_CFG               0\n",
       "NET_LPR               0\n",
       "NET_FISH              0\n",
       "NET_FOR               0\n",
       "NET_RET               0\n",
       "NET_MFG               0\n",
       "NET_TRANS             0\n",
       "NET_NEC_A8            0\n",
       "NET_NEC_A9            0\n",
       "NET_NEC_A10           0\n",
       "EAINC                 0\n",
       "LOSSES                0\n",
       "                     ..\n",
       "IMPUTED_RENT          0\n",
       "BIMPUTED_RENT         0\n",
       "RENTVAL               0\n",
       "FURNISHING            0\n",
       "HEALTH                0\n",
       "TRANSPORT             0\n",
       "COMMUNICATION         0\n",
       "RECREATION            0\n",
       "EDUCATION             0\n",
       "INSURANCE             0\n",
       "MISCELLANEOUS         0\n",
       "DURABLE               0\n",
       "OCCASION              0\n",
       "OTHER_EXPENDITURE     0\n",
       "OTHER_DISBURSEMENT    0\n",
       "FOOD_ACCOM_SRVC       0\n",
       "NFOOD                 0\n",
       "TOINC                 0\n",
       "TOTEX                 0\n",
       "TOTDIS                0\n",
       "OTHREC                0\n",
       "TOREC                 0\n",
       "RPSU                  0\n",
       "FAMILY_WEIGHT         0\n",
       "POPULATION_WEIGHT     0\n",
       "URB                   0\n",
       "PCINC                 0\n",
       "NPCINC                0\n",
       "RPCINC                0\n",
       "PPCINC                0\n",
       "Length: 87, dtype: int64"
      ]
     },
     "execution_count": 106,
     "metadata": {},
     "output_type": "execute_result"
    }
   ],
   "source": [
    "df_23.isnull().sum()"
   ]
  },
  {
   "cell_type": "markdown",
   "metadata": {},
   "source": [
    "### Inspecting duplicates"
   ]
  },
  {
   "cell_type": "code",
   "execution_count": 108,
   "metadata": {},
   "outputs": [
    {
     "name": "stdout",
     "output_type": "stream",
     "text": [
      "0\n",
      "0\n"
     ]
    }
   ],
   "source": [
    "print(df_21.duplicated().sum())\n",
    "print(df_23.duplicated().sum())"
   ]
  },
  {
   "cell_type": "markdown",
   "metadata": {},
   "source": [
    "### Inspecting data types"
   ]
  },
  {
   "cell_type": "code",
   "execution_count": 110,
   "metadata": {},
   "outputs": [
    {
     "data": {
      "text/plain": [
       "W_REGN                  int64\n",
       "W_PROV                  int64\n",
       "SEQ_NO                  int64\n",
       "AVG_FSIZE             float64\n",
       "REG_SAL                 int64\n",
       "SEASON_SAL              int64\n",
       "WAGES                   int64\n",
       "NETSHARE                int64\n",
       "CASH_ABROAD             int64\n",
       "CASH_DOMESTIC           int64\n",
       "RENTALS_REC             int64\n",
       "INTEREST                int64\n",
       "PENSION                 int64\n",
       "DIVIDENDS               int64\n",
       "OTHER_SOURCE            int64\n",
       "NET_RECEIPT             int64\n",
       "REGFT                   int64\n",
       "NET_CFG                 int64\n",
       "NET_LPR                 int64\n",
       "NET_FISH                int64\n",
       "NET_FOR                 int64\n",
       "NET_RET                 int64\n",
       "NET_MFG                 int64\n",
       "NET_TRANS               int64\n",
       "NET_NEC_A8              int64\n",
       "NET_NEC_A9              int64\n",
       "NET_NEC_A10             int64\n",
       "EAINC                   int64\n",
       "TOINC                   int64\n",
       "LOSSES                  int64\n",
       "                       ...   \n",
       "HOUSING_WATER           int64\n",
       "ACTRENT                 int64\n",
       "RENTVAL                 int64\n",
       "IMPUTED_RENT            int64\n",
       "BIMPUTED_RENT           int64\n",
       "TRANSPORT               int64\n",
       "COMMUNICATION           int64\n",
       "RECREATION              int64\n",
       "EDUCATION               int64\n",
       "INSURANCE               int64\n",
       "MISCELLANEOUS           int64\n",
       "DURABLE                 int64\n",
       "OCCASION                int64\n",
       "OTHER_EXPENDITURE       int64\n",
       "OTHER_DISBURSEMENT      int64\n",
       "FOOD_ACCOM_SRVC         int64\n",
       "NFOOD                   int64\n",
       "TOTEX                   int64\n",
       "TOTDIS                  int64\n",
       "OTHREC                  int64\n",
       "TOREC                   int64\n",
       "URB                     int64\n",
       "RPROV                   int64\n",
       "RPSU                    int64\n",
       "FAMILY_WEIGHT         float64\n",
       "POPULATION_WEIGHT     float64\n",
       "PCINC                 float64\n",
       "NPCINC                float64\n",
       "RPCINC                float64\n",
       "PPCINC                float64\n",
       "Length: 87, dtype: object"
      ]
     },
     "execution_count": 110,
     "metadata": {},
     "output_type": "execute_result"
    }
   ],
   "source": [
    "df_21.dtypes"
   ]
  },
  {
   "cell_type": "markdown",
   "metadata": {},
   "source": [
    "### Inspecting for Outliers"
   ]
  },
  {
   "cell_type": "code",
   "execution_count": 111,
   "metadata": {},
   "outputs": [],
   "source": [
    "#TODO"
   ]
  },
  {
   "cell_type": "markdown",
   "metadata": {},
   "source": [
    "### Inspecting Multicollinearity"
   ]
  },
  {
   "cell_type": "code",
   "execution_count": 118,
   "metadata": {},
   "outputs": [],
   "source": [
    "# TODO"
   ]
  },
  {
   "cell_type": "markdown",
   "metadata": {},
   "source": [
    "### Inspecting Outliers"
   ]
  },
  {
   "cell_type": "markdown",
   "metadata": {},
   "source": [
    "#### Investigating High-Variance Columns"
   ]
  },
  {
   "cell_type": "code",
   "execution_count": 131,
   "metadata": {},
   "outputs": [
    {
     "data": {
      "text/plain": [
       "TOREC                369101.24\n",
       "TOINC                331856.56\n",
       "TOTDIS               277815.17\n",
       "WAGES                207443.14\n",
       "REG_SAL              205360.38\n",
       "TOTEX                189577.56\n",
       "EAINC                176713.46\n",
       "NFOOD                151094.32\n",
       "OTHER_DISBURSEMENT   147104.08\n",
       "NET_RET              130247.33\n",
       "OTHREC               110028.96\n",
       "PCINC                101006.56\n",
       "CASH_ABROAD           77520.00\n",
       "NET_NEC_A8            72802.28\n",
       "PENSION               72228.63\n",
       "HOUSING_WATER         62231.87\n",
       "FOOD                  56742.08\n",
       "FOOD_HOME             48787.73\n",
       "SEASON_SAL            47930.15\n",
       "SEQ_NO                47639.91\n",
       "dtype: float64"
      ]
     },
     "execution_count": 131,
     "metadata": {},
     "output_type": "execute_result"
    }
   ],
   "source": [
    "# Decide on what should be checked for its outliers and remove it\n",
    "df_21.std().sort_values(ascending=False)[:20]"
   ]
  },
  {
   "cell_type": "markdown",
   "metadata": {},
   "source": [
    "#### Investigating for Skewed Distributions"
   ]
  },
  {
   "cell_type": "code",
   "execution_count": 132,
   "metadata": {},
   "outputs": [
    {
     "data": {
      "text/plain": [
       "NET_RECEIPT                    238.08\n",
       "LOSSES                         214.07\n",
       "SERVICES_PRIMARY_GOODS         185.41\n",
       "RENTALS_REC                    169.69\n",
       "NET_NEC_A9                     165.35\n",
       "OTHER_NON_ALCOHOL              156.03\n",
       "NET_FOR                        155.06\n",
       "NET_LPR                        152.62\n",
       "BIMPUTED_RENT                  137.49\n",
       "OTHER_SOURCE                   135.68\n",
       "NET_NEC_A10                    129.10\n",
       "NETSHARE                       117.99\n",
       "DIVIDENDS                      111.56\n",
       "RECREATION                      97.79\n",
       "FOOD_ACCOM_SRVC                 81.42\n",
       "ALCOHOL_PROCDUCTION_SERVICES    81.22\n",
       "NET_TRANS                       78.39\n",
       "OTHREC                          73.90\n",
       "NET_NEC_A8                      68.22\n",
       "INTEREST                        68.07\n",
       "PENSION                         58.10\n",
       "HEALTH                          50.21\n",
       "OTHER_DISBURSEMENT              45.66\n",
       "NET_RET                         45.23\n",
       "MISCELLANEOUS                   43.89\n",
       "NET_CFG                         34.46\n",
       "OTHER_EXPENDITURE               33.39\n",
       "NET_MFG                         32.57\n",
       "REGFT                           32.52\n",
       "EAINC                           31.98\n",
       "                                ...  \n",
       "TOBACCO                          9.63\n",
       "SEASON_SAL                       7.94\n",
       "NFOOD                            7.58\n",
       "WATER                            7.17\n",
       "FRUIT_VEG                        7.04\n",
       "BREAD                            6.68\n",
       "COCOA                            6.56\n",
       "MILK                             6.16\n",
       "SUGAR                            5.97\n",
       "TOTEX                            5.58\n",
       "REG_SAL                          4.59\n",
       "WAGES                            4.47\n",
       "FRUIT                            3.98\n",
       "MEAT                             3.86\n",
       "COFFEE                           3.58\n",
       "FISH                             3.12\n",
       "FOOD                             2.87\n",
       "FOOD_HOME                        2.63\n",
       "POPULATION_WEIGHT                2.61\n",
       "FAMILY_WEIGHT                    2.60\n",
       "RPSU                             2.44\n",
       "AVG_FSIZE                        0.85\n",
       "NPCINC                           0.10\n",
       "PPCINC                           0.00\n",
       "SEQ_NO                           0.00\n",
       "RPCINC                          -0.02\n",
       "URB                             -0.08\n",
       "W_PROV                          -0.08\n",
       "RPROV                           -0.08\n",
       "W_REGN                          -0.09\n",
       "Length: 87, dtype: float64"
      ]
     },
     "execution_count": 132,
     "metadata": {},
     "output_type": "execute_result"
    }
   ],
   "source": [
    "# Investigate further since the dataset contains numeric values, it is naturally skewed.\n",
    "df_21.skew().sort_values(ascending=False)"
   ]
  },
  {
   "cell_type": "markdown",
   "metadata": {},
   "source": [
    "#### Sample of Plotting Outliers"
   ]
  },
  {
   "cell_type": "code",
   "execution_count": 129,
   "metadata": {},
   "outputs": [
    {
     "data": {
      "image/png": "[encoded data removed]",
      "text/plain": [
       "<Figure size 1200x1000 with 4 Axes>"
      ]
     },
     "metadata": {},
     "output_type": "display_data"
    }
   ],
   "source": [
    "fig, axes = plt.subplots(2,2, figsize=(12,10))\n",
    "\n",
    "sns.boxplot(df_21[\"REG_SAL\"], ax=axes[0,0])\n",
    "axes[0,0].set_title('Salaries from Regular Employment')\n",
    "\n",
    "sns.boxplot(df_21[\"SEASON_SAL\"], ax=axes[0,1])\n",
    "axes[0,1].set_title('Salaries from Seasonal Employment')\n",
    "\n",
    "sns.boxplot(df_21[\"WAGES\"], ax=axes[1,0])\n",
    "axes[1,0].set_title('Wages')\n",
    "\n",
    "sns.boxplot(df_21[\"NETSHARE\"], ax=axes[1,1])\n",
    "axes[1,1].set_title('Net Share of Crops, Fruits, etc.')\n",
    "\n",
    "plt.tight_layout()\n",
    "plt.show()"
   ]
  },
  {
   "cell_type": "markdown",
   "metadata": {},
   "source": [
    "## Preliminary Findings (Summary Statistics)"
   ]
  },
  {
   "cell_type": "markdown",
   "metadata": {},
   "source": [
    "### Statistics about the `FSIZE` (Family Size)"
   ]
  },
  {
   "cell_type": "code",
   "execution_count": 100,
   "metadata": {},
   "outputs": [
    {
     "data": {
      "text/plain": [
       "count   165029.00\n",
       "mean         4.24\n",
       "std          2.03\n",
       "min          1.00\n",
       "25%          3.00\n",
       "50%          4.00\n",
       "75%          5.50\n",
       "max         23.00\n",
       "Name: AVG_FSIZE, dtype: float64"
      ]
     },
     "execution_count": 100,
     "metadata": {},
     "output_type": "execute_result"
    }
   ],
   "source": [
    "# Statistics about `FSIZE`\n",
    "df_21['AVG_FSIZE'].describe()"
   ]
  },
  {
   "cell_type": "markdown",
   "metadata": {},
   "source": [
    "### Statistics about the `REG_SAL` (Regular Salary)"
   ]
  },
  {
   "cell_type": "code",
   "execution_count": 101,
   "metadata": {},
   "outputs": [
    {
     "data": {
      "text/plain": [
       "count    165029.00\n",
       "mean     125300.56\n",
       "std      205360.38\n",
       "min           0.00\n",
       "25%           0.00\n",
       "50%       56000.00\n",
       "75%      165400.00\n",
       "max     6821000.00\n",
       "Name: REG_SAL, dtype: float64"
      ]
     },
     "execution_count": 101,
     "metadata": {},
     "output_type": "execute_result"
    }
   ],
   "source": [
    "# Statistics about `REG_SAL`\n",
    "\n",
    "df_21['REG_SAL'].describe()"
   ]
  },
  {
   "cell_type": "markdown",
   "metadata": {},
   "source": [
    "### Statistics about `PCINC` (Per Capita Income)"
   ]
  },
  {
   "cell_type": "code",
   "execution_count": 102,
   "metadata": {},
   "outputs": [
    {
     "data": {
      "text/plain": [
       "count    165029.00\n",
       "mean      81850.92\n",
       "std      101006.56\n",
       "min        5408.62\n",
       "25%       35403.00\n",
       "50%       55432.00\n",
       "75%       94000.00\n",
       "max     9691285.00\n",
       "Name: PCINC, dtype: float64"
      ]
     },
     "execution_count": 102,
     "metadata": {},
     "output_type": "execute_result"
    }
   ],
   "source": [
    "# Statistics about `PCINC`\n",
    "df_21['PCINC'].describe()"
   ]
  }
 ],
 "metadata": {
  "kernelspec": {
   "display_name": ".venv",
   "language": "python",
   "name": "python3"
  },
  "language_info": {
   "codemirror_mode": {
    "name": "ipython",
    "version": 3
   },
   "file_extension": ".py",
   "mimetype": "text/x-python",
   "name": "python",
   "nbconvert_exporter": "python",
   "pygments_lexer": "ipython3",
   "version": "3.12.3"
  }
 },
 "nbformat": 4,
 "nbformat_minor": 2
}
