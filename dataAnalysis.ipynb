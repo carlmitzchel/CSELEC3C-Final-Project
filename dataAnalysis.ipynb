{
 "cells": [
  {
   "cell_type": "code",
   "execution_count": 2,
   "metadata": {},
   "outputs": [],
   "source": [
    "import pandas as pd\n",
    "import numpy as np\n",
    "import seaborn as sns\n",
    "import matplotlib.pyplot as plt"
   ]
  },
  {
   "cell_type": "markdown",
   "metadata": {},
   "source": [
    "## Preliminary Data Analysis"
   ]
  },
  {
   "cell_type": "markdown",
   "metadata": {},
   "source": [
    "### Loading the datasets."
   ]
  },
  {
   "cell_type": "code",
   "execution_count": 3,
   "metadata": {},
   "outputs": [
    {
     "name": "stderr",
     "output_type": "stream",
     "text": [
      "C:\\Users\\Chy\\AppData\\Local\\Temp\\ipykernel_12444\\1626076420.py:7: DtypeWarning: Columns (76) have mixed types. Specify dtype option on import or set low_memory=False.\n",
      "  df_23 = pd.read_csv('dataset/PHL-PSA-FIES-2023-V1-PUF/FIES PUF 2023 Volume1.csv')\n"
     ]
    }
   ],
   "source": [
    "# 2021 Dataset\n",
    "\n",
    "df_21 = pd.read_csv('dataset/PHL-PSA-FIES-2021-PUF/FIES PUF 2021 Vol.1.csv')\n",
    "\n",
    "# 2023 Dataset\n",
    "\n",
    "df_23 = pd.read_csv('dataset/PHL-PSA-FIES-2023-V1-PUF/FIES PUF 2023 Volume1.csv')"
   ]
  },
  {
   "cell_type": "markdown",
   "metadata": {},
   "source": [
    "### Data Cleaning"
   ]
  },
  {
   "cell_type": "code",
   "execution_count": 4,
   "metadata": {},
   "outputs": [
    {
     "data": {
      "text/plain": [
       "Index(['W_REGN', 'W_PROV', 'SEQUENCE_NO', 'FSIZE', 'REG_SAL', 'SEASON_SAL',\n",
       "       'WAGES', 'NETSHARE', 'CASH_ABROAD', 'CASH_DOMESTIC', 'RENTALS_REC',\n",
       "       'INTEREST', 'PENSION', 'DIVIDENDS', 'OTHER_SOURCE', 'NET_RECEIPT',\n",
       "       'REGFT', 'NET_CFG', 'NET_LPR', 'NET_FISH', 'NET_FOR', 'NET_RET',\n",
       "       'NET_MFG', 'NET_TRANS', 'NET_NEC_A8', 'NET_NEC_A9', 'NET_NEC_A10',\n",
       "       'EAINC', 'TOINC', 'LOSSES', 'BREAD', 'MEAT', 'FISH', 'MILK', 'OIL',\n",
       "       'FRUIT', 'VEG', 'SUGAR', 'FOOD_NEC', 'FRUIT_VEG', 'COFFEE', 'TEA',\n",
       "       'COCOA', 'WATER', 'SOFTDRINKS', 'OTHER_NON_ALCOHOL', 'ALCOHOL',\n",
       "       'TOBACCO', 'OTHER_VEG', 'SERVICES_PRIMARY_GOODS',\n",
       "       'ALCOHOL_PROCDUCTION_SERVICES', 'FOOD_HOME', 'FOOD_OUTSIDE', 'FOOD',\n",
       "       'CLOTH', 'FURNISHING', 'HEALTH', 'HOUSING_WATER', 'ACTRENT', 'RENTVAL',\n",
       "       'IMPUTED_RENT', 'BIMPUTED_RENT', 'TRANSPORT', 'COMMUNICATION',\n",
       "       'RECREATION', 'EDUCATION', 'INSURANCE', 'MISCELLANEOUS', 'DURABLE',\n",
       "       'OCCASION', 'OTHER_EXPENDITURE', 'OTHER_DISBURSEMENT',\n",
       "       'FOOD_ACCOM_SRVC', 'NFOOD', 'TOTEX', 'TOTDIS', 'OTHREC', 'TOREC', 'URB',\n",
       "       'RPROV', 'RPSU', 'BWEIGHT', 'RFACT', 'RFACT_POP', 'PCINC', 'NPCINC',\n",
       "       'RPCINC', 'PPCINC'],\n",
       "      dtype='object')"
      ]
     },
     "execution_count": 4,
     "metadata": {},
     "output_type": "execute_result"
    }
   ],
   "source": [
    "df_21.columns"
   ]
  },
  {
   "cell_type": "code",
   "execution_count": 5,
   "metadata": {},
   "outputs": [
    {
     "data": {
      "text/plain": [
       "Index(['W_REGN', 'W_PROV', 'SEQ_NO', 'RPROV', 'FSIZE', 'REG_SAL', 'SEASON_SAL',\n",
       "       'WAGES', 'NETSHARE', 'CASH_ABROAD', 'CASH_DOMESTIC', 'RENTALS_REC',\n",
       "       'INTEREST', 'PENSION', 'DIVIDENDS', 'OTHER_SOURCE', 'NET_RECEIPT',\n",
       "       'REGFT', 'NET_CFG', 'NET_LPR', 'NET_FISH', 'NET_FOR', 'NET_RET',\n",
       "       'NET_MFG', 'NET_TRANS', 'NET_NEC_A8', 'NET_NEC_A9', 'NET_NEC_A10',\n",
       "       'EAINC', 'LOSSES', 'BREAD', 'MEAT', 'FISH', 'MILK', 'OIL', 'FRUIT',\n",
       "       'VEG', 'SUGAR', 'FOOD_NEC', 'FRUIT_VEG', 'COFFEE', 'TEA', 'COCOA',\n",
       "       'WATER', 'SOFTDRINKS', 'OTHER_NON_ALCOHOL', 'ALCOHOL', 'TOBACCO',\n",
       "       'OTHER_VEG', 'SERVICES_PRIMARY_GOODS', 'ALCOHOL_PROCDUCTION_SERVICES',\n",
       "       'FOOD_HOME', 'FOOD_OUTSIDE', 'FOOD', 'CLOTH', 'HOUSING_WATER',\n",
       "       'ACTRENT', 'IMPUTED_RENT', 'BIMPUTED_RENT', 'RENTVAL', 'FURNISHING',\n",
       "       'HEALTH', 'TRANSPORT', 'COMMUNICATION', 'RECREATION', 'EDUCATION',\n",
       "       'INSURANCE', 'MISCELLANEOUS', 'DURABLE', 'OCCASION',\n",
       "       'OTHER_EXPENDITURE', 'OTHER_DISBURSEMENT', 'FOOD_ACCOM_SRVC', 'NFOOD',\n",
       "       'TOINC', 'TOTEX', 'TOTDIS', 'OTHREC', 'TOREC', 'RPSU', 'RFACT',\n",
       "       'MEM_RFACT', 'URB', 'PERCAPITA', 'NPCINC', 'RPCINC', 'PRPCINC',\n",
       "       'PPCINC', 'RPCINC_NIR', 'W_REGN_NIR'],\n",
       "      dtype='object')"
      ]
     },
     "execution_count": 5,
     "metadata": {},
     "output_type": "execute_result"
    }
   ],
   "source": [
    "df_23.columns"
   ]
  },
  {
   "cell_type": "code",
   "execution_count": 6,
   "metadata": {},
   "outputs": [],
   "source": [
    "# Since there are discrepancies between the 2021 and 2023 dataset. We will follow the better described columns between the two datasets.\n",
    "# For example, the SEQUENCE_NO in the 2021 dataset is described as \"Sequence No.\" while in the 2023 dataset it is described as \"Household ID\"\n",
    "\n",
    "df_21.rename(columns={'SEQUENCE_NO': 'SEQ_NO'}, inplace=True)"
   ]
  },
  {
   "cell_type": "code",
   "execution_count": 7,
   "metadata": {},
   "outputs": [],
   "source": [
    "# Since `BWEIGHT` does not exist in the 2023 dataset, we will drop it from the 2021 dataset to retain consistency.\n",
    "\n",
    "df_21.drop(columns=['BWEIGHT'], inplace=True)"
   ]
  },
  {
   "cell_type": "code",
   "execution_count": 8,
   "metadata": {},
   "outputs": [],
   "source": [
    "df_21.rename(columns={'RFACT': 'FAMILY_WEIGHT'}, inplace=True)\n",
    "df_23.rename(columns={'RFACT': 'FAMILY_WEIGHT'}, inplace=True)"
   ]
  },
  {
   "cell_type": "code",
   "execution_count": 9,
   "metadata": {},
   "outputs": [],
   "source": [
    "df_21.rename(columns={'RFACT_POP': 'POPULATION_WEIGHT'}, inplace=True)\n",
    "df_23.rename(columns={'MEM_RFACT': 'POPULATION_WEIGHT'}, inplace=True)"
   ]
  },
  {
   "cell_type": "code",
   "execution_count": 10,
   "metadata": {},
   "outputs": [],
   "source": [
    "df_23.rename(columns={'PERCAPITA': 'PCINC'}, inplace=True)\n",
    "df_23.drop(columns=['PPCINC'], inplace=True)\n",
    "df_23.rename(columns={'PRPCINC': 'PPCINC'}, inplace=True)"
   ]
  },
  {
   "cell_type": "code",
   "execution_count": 11,
   "metadata": {},
   "outputs": [],
   "source": [
    "df_23.drop(columns=['RPCINC'], inplace=True)\n",
    "df_23.rename(columns={'RPCINC_NIR': 'RPCINC'}, inplace=True)"
   ]
  },
  {
   "cell_type": "code",
   "execution_count": 12,
   "metadata": {},
   "outputs": [],
   "source": [
    "df_23.drop(columns=['W_REGN'], inplace=True)\n",
    "df_23.rename(columns={'W_REGN_NIR': 'W_REGN'}, inplace=True)"
   ]
  },
  {
   "cell_type": "code",
   "execution_count": 33,
   "metadata": {},
   "outputs": [],
   "source": [
    "df_21.rename(columns={'FSIZE': 'AVG_FSIZE'}, inplace=True)\n",
    "df_23.rename(columns={'FSIZE': 'AVG_FSIZE'}, inplace=True)"
   ]
  },
  {
   "cell_type": "code",
   "execution_count": 34,
   "metadata": {},
   "outputs": [
    {
     "name": "stdout",
     "output_type": "stream",
     "text": [
      "<class 'pandas.core.frame.DataFrame'>\n",
      "RangeIndex: 165029 entries, 0 to 165028\n",
      "Data columns (total 87 columns):\n",
      " #   Column                        Non-Null Count   Dtype  \n",
      "---  ------                        --------------   -----  \n",
      " 0   W_REGN                        165029 non-null  int64  \n",
      " 1   W_PROV                        165029 non-null  int64  \n",
      " 2   SEQ_NO                        165029 non-null  int64  \n",
      " 3   AVG_FSIZE                     165029 non-null  float64\n",
      " 4   REG_SAL                       165029 non-null  int64  \n",
      " 5   SEASON_SAL                    165029 non-null  int64  \n",
      " 6   WAGES                         165029 non-null  int64  \n",
      " 7   NETSHARE                      165029 non-null  int64  \n",
      " 8   CASH_ABROAD                   165029 non-null  int64  \n",
      " 9   CASH_DOMESTIC                 165029 non-null  int64  \n",
      " 10  RENTALS_REC                   165029 non-null  int64  \n",
      " 11  INTEREST                      165029 non-null  int64  \n",
      " 12  PENSION                       165029 non-null  int64  \n",
      " 13  DIVIDENDS                     165029 non-null  int64  \n",
      " 14  OTHER_SOURCE                  165029 non-null  int64  \n",
      " 15  NET_RECEIPT                   165029 non-null  int64  \n",
      " 16  REGFT                         165029 non-null  int64  \n",
      " 17  NET_CFG                       165029 non-null  int64  \n",
      " 18  NET_LPR                       165029 non-null  int64  \n",
      " 19  NET_FISH                      165029 non-null  int64  \n",
      " 20  NET_FOR                       165029 non-null  int64  \n",
      " 21  NET_RET                       165029 non-null  int64  \n",
      " 22  NET_MFG                       165029 non-null  int64  \n",
      " 23  NET_TRANS                     165029 non-null  int64  \n",
      " 24  NET_NEC_A8                    165029 non-null  int64  \n",
      " 25  NET_NEC_A9                    165029 non-null  int64  \n",
      " 26  NET_NEC_A10                   165029 non-null  int64  \n",
      " 27  EAINC                         165029 non-null  int64  \n",
      " 28  TOINC                         165029 non-null  int64  \n",
      " 29  LOSSES                        165029 non-null  int64  \n",
      " 30  BREAD                         165029 non-null  int64  \n",
      " 31  MEAT                          165029 non-null  int64  \n",
      " 32  FISH                          165029 non-null  int64  \n",
      " 33  MILK                          165029 non-null  int64  \n",
      " 34  OIL                           165029 non-null  int64  \n",
      " 35  FRUIT                         165029 non-null  int64  \n",
      " 36  VEG                           165029 non-null  int64  \n",
      " 37  SUGAR                         165029 non-null  int64  \n",
      " 38  FOOD_NEC                      165029 non-null  int64  \n",
      " 39  FRUIT_VEG                     165029 non-null  int64  \n",
      " 40  COFFEE                        165029 non-null  int64  \n",
      " 41  TEA                           165029 non-null  int64  \n",
      " 42  COCOA                         165029 non-null  int64  \n",
      " 43  WATER                         165029 non-null  int64  \n",
      " 44  SOFTDRINKS                    165029 non-null  int64  \n",
      " 45  OTHER_NON_ALCOHOL             165029 non-null  int64  \n",
      " 46  ALCOHOL                       165029 non-null  int64  \n",
      " 47  TOBACCO                       165029 non-null  int64  \n",
      " 48  OTHER_VEG                     165029 non-null  int64  \n",
      " 49  SERVICES_PRIMARY_GOODS        165029 non-null  int64  \n",
      " 50  ALCOHOL_PROCDUCTION_SERVICES  165029 non-null  int64  \n",
      " 51  FOOD_HOME                     165029 non-null  int64  \n",
      " 52  FOOD_OUTSIDE                  165029 non-null  int64  \n",
      " 53  FOOD                          165029 non-null  int64  \n",
      " 54  CLOTH                         165029 non-null  int64  \n",
      " 55  FURNISHING                    165029 non-null  int64  \n",
      " 56  HEALTH                        165029 non-null  int64  \n",
      " 57  HOUSING_WATER                 165029 non-null  int64  \n",
      " 58  ACTRENT                       165029 non-null  int64  \n",
      " 59  RENTVAL                       165029 non-null  int64  \n",
      " 60  IMPUTED_RENT                  165029 non-null  int64  \n",
      " 61  BIMPUTED_RENT                 165029 non-null  int64  \n",
      " 62  TRANSPORT                     165029 non-null  int64  \n",
      " 63  COMMUNICATION                 165029 non-null  int64  \n",
      " 64  RECREATION                    165029 non-null  int64  \n",
      " 65  EDUCATION                     165029 non-null  int64  \n",
      " 66  INSURANCE                     165029 non-null  int64  \n",
      " 67  MISCELLANEOUS                 165029 non-null  int64  \n",
      " 68  DURABLE                       165029 non-null  int64  \n",
      " 69  OCCASION                      165029 non-null  int64  \n",
      " 70  OTHER_EXPENDITURE             165029 non-null  int64  \n",
      " 71  OTHER_DISBURSEMENT            165029 non-null  int64  \n",
      " 72  FOOD_ACCOM_SRVC               165029 non-null  int64  \n",
      " 73  NFOOD                         165029 non-null  int64  \n",
      " 74  TOTEX                         165029 non-null  int64  \n",
      " 75  TOTDIS                        165029 non-null  int64  \n",
      " 76  OTHREC                        165029 non-null  int64  \n",
      " 77  TOREC                         165029 non-null  int64  \n",
      " 78  URB                           165029 non-null  int64  \n",
      " 79  RPROV                         165029 non-null  int64  \n",
      " 80  RPSU                          165029 non-null  int64  \n",
      " 81  FAMILY_WEIGHT                 165029 non-null  float64\n",
      " 82  POPULATION_WEIGHT             165029 non-null  float64\n",
      " 83  PCINC                         165029 non-null  float64\n",
      " 84  NPCINC                        165029 non-null  float64\n",
      " 85  RPCINC                        165029 non-null  float64\n",
      " 86  PPCINC                        165029 non-null  float64\n",
      "dtypes: float64(7), int64(80)\n",
      "memory usage: 109.5 MB\n"
     ]
    }
   ],
   "source": [
    "df_21.info()"
   ]
  },
  {
   "cell_type": "code",
   "execution_count": 31,
   "metadata": {},
   "outputs": [
    {
     "data": {
      "text/html": [
       "<div>\n",
       "<style scoped>\n",
       "    .dataframe tbody tr th:only-of-type {\n",
       "        vertical-align: middle;\n",
       "    }\n",
       "\n",
       "    .dataframe tbody tr th {\n",
       "        vertical-align: top;\n",
       "    }\n",
       "\n",
       "    .dataframe thead th {\n",
       "        text-align: right;\n",
       "    }\n",
       "</style>\n",
       "<table border=\"1\" class=\"dataframe\">\n",
       "  <thead>\n",
       "    <tr style=\"text-align: right;\">\n",
       "      <th></th>\n",
       "      <th>W_REGN</th>\n",
       "      <th>W_PROV</th>\n",
       "      <th>SEQ_NO</th>\n",
       "      <th>FSIZE</th>\n",
       "      <th>REG_SAL</th>\n",
       "      <th>SEASON_SAL</th>\n",
       "      <th>WAGES</th>\n",
       "      <th>NETSHARE</th>\n",
       "      <th>CASH_ABROAD</th>\n",
       "      <th>CASH_DOMESTIC</th>\n",
       "      <th>...</th>\n",
       "      <th>TOREC</th>\n",
       "      <th>URB</th>\n",
       "      <th>RPROV</th>\n",
       "      <th>RPSU</th>\n",
       "      <th>FAMILY_WEIGHT</th>\n",
       "      <th>POPULATION_WEIGHT</th>\n",
       "      <th>PCINC</th>\n",
       "      <th>NPCINC</th>\n",
       "      <th>RPCINC</th>\n",
       "      <th>PPCINC</th>\n",
       "    </tr>\n",
       "  </thead>\n",
       "  <tbody>\n",
       "    <tr>\n",
       "      <th>138086</th>\n",
       "      <td>14</td>\n",
       "      <td>44</td>\n",
       "      <td>138087</td>\n",
       "      <td>3.00</td>\n",
       "      <td>0</td>\n",
       "      <td>40000</td>\n",
       "      <td>40000</td>\n",
       "      <td>0</td>\n",
       "      <td>0</td>\n",
       "      <td>0</td>\n",
       "      <td>...</td>\n",
       "      <td>561185</td>\n",
       "      <td>2</td>\n",
       "      <td>4400</td>\n",
       "      <td>149</td>\n",
       "      <td>22.57</td>\n",
       "      <td>23.52</td>\n",
       "      <td>165395.00</td>\n",
       "      <td>10.00</td>\n",
       "      <td>9.00</td>\n",
       "      <td>10.00</td>\n",
       "    </tr>\n",
       "    <tr>\n",
       "      <th>125455</th>\n",
       "      <td>13</td>\n",
       "      <td>76</td>\n",
       "      <td>125456</td>\n",
       "      <td>6.00</td>\n",
       "      <td>513000</td>\n",
       "      <td>400000</td>\n",
       "      <td>913000</td>\n",
       "      <td>0</td>\n",
       "      <td>60000</td>\n",
       "      <td>0</td>\n",
       "      <td>...</td>\n",
       "      <td>1267450</td>\n",
       "      <td>1</td>\n",
       "      <td>7603</td>\n",
       "      <td>382</td>\n",
       "      <td>74.44</td>\n",
       "      <td>67.14</td>\n",
       "      <td>211241.67</td>\n",
       "      <td>10.00</td>\n",
       "      <td>9.00</td>\n",
       "      <td>10.00</td>\n",
       "    </tr>\n",
       "    <tr>\n",
       "      <th>114083</th>\n",
       "      <td>13</td>\n",
       "      <td>74</td>\n",
       "      <td>114084</td>\n",
       "      <td>5.00</td>\n",
       "      <td>660000</td>\n",
       "      <td>0</td>\n",
       "      <td>660000</td>\n",
       "      <td>0</td>\n",
       "      <td>0</td>\n",
       "      <td>65000</td>\n",
       "      <td>...</td>\n",
       "      <td>725256</td>\n",
       "      <td>1</td>\n",
       "      <td>7403</td>\n",
       "      <td>49</td>\n",
       "      <td>119.19</td>\n",
       "      <td>120.09</td>\n",
       "      <td>145051.20</td>\n",
       "      <td>9.00</td>\n",
       "      <td>8.00</td>\n",
       "      <td>8.00</td>\n",
       "    </tr>\n",
       "    <tr>\n",
       "      <th>108187</th>\n",
       "      <td>12</td>\n",
       "      <td>98</td>\n",
       "      <td>108188</td>\n",
       "      <td>4.00</td>\n",
       "      <td>0</td>\n",
       "      <td>124800</td>\n",
       "      <td>124800</td>\n",
       "      <td>0</td>\n",
       "      <td>26000</td>\n",
       "      <td>0</td>\n",
       "      <td>...</td>\n",
       "      <td>189955</td>\n",
       "      <td>1</td>\n",
       "      <td>9804</td>\n",
       "      <td>31</td>\n",
       "      <td>46.34</td>\n",
       "      <td>51.36</td>\n",
       "      <td>47488.75</td>\n",
       "      <td>4.00</td>\n",
       "      <td>6.00</td>\n",
       "      <td>6.00</td>\n",
       "    </tr>\n",
       "    <tr>\n",
       "      <th>98396</th>\n",
       "      <td>11</td>\n",
       "      <td>82</td>\n",
       "      <td>98397</td>\n",
       "      <td>4.00</td>\n",
       "      <td>16800</td>\n",
       "      <td>0</td>\n",
       "      <td>16800</td>\n",
       "      <td>0</td>\n",
       "      <td>0</td>\n",
       "      <td>11700</td>\n",
       "      <td>...</td>\n",
       "      <td>89772</td>\n",
       "      <td>1</td>\n",
       "      <td>8200</td>\n",
       "      <td>160</td>\n",
       "      <td>112.38</td>\n",
       "      <td>114.73</td>\n",
       "      <td>22443.00</td>\n",
       "      <td>1.00</td>\n",
       "      <td>1.00</td>\n",
       "      <td>2.00</td>\n",
       "    </tr>\n",
       "    <tr>\n",
       "      <th>55023</th>\n",
       "      <td>7</td>\n",
       "      <td>12</td>\n",
       "      <td>55024</td>\n",
       "      <td>5.00</td>\n",
       "      <td>125400</td>\n",
       "      <td>52800</td>\n",
       "      <td>178200</td>\n",
       "      <td>0</td>\n",
       "      <td>0</td>\n",
       "      <td>0</td>\n",
       "      <td>...</td>\n",
       "      <td>210149</td>\n",
       "      <td>2</td>\n",
       "      <td>1200</td>\n",
       "      <td>1170</td>\n",
       "      <td>170.66</td>\n",
       "      <td>173.08</td>\n",
       "      <td>42029.80</td>\n",
       "      <td>4.00</td>\n",
       "      <td>4.00</td>\n",
       "      <td>5.00</td>\n",
       "    </tr>\n",
       "    <tr>\n",
       "      <th>97951</th>\n",
       "      <td>11</td>\n",
       "      <td>82</td>\n",
       "      <td>97952</td>\n",
       "      <td>5.00</td>\n",
       "      <td>74000</td>\n",
       "      <td>0</td>\n",
       "      <td>74000</td>\n",
       "      <td>0</td>\n",
       "      <td>0</td>\n",
       "      <td>0</td>\n",
       "      <td>...</td>\n",
       "      <td>144707</td>\n",
       "      <td>1</td>\n",
       "      <td>8200</td>\n",
       "      <td>334</td>\n",
       "      <td>106.38</td>\n",
       "      <td>108.61</td>\n",
       "      <td>25541.40</td>\n",
       "      <td>1.00</td>\n",
       "      <td>1.00</td>\n",
       "      <td>2.00</td>\n",
       "    </tr>\n",
       "    <tr>\n",
       "      <th>106490</th>\n",
       "      <td>12</td>\n",
       "      <td>65</td>\n",
       "      <td>106491</td>\n",
       "      <td>3.50</td>\n",
       "      <td>0</td>\n",
       "      <td>7200</td>\n",
       "      <td>7200</td>\n",
       "      <td>0</td>\n",
       "      <td>0</td>\n",
       "      <td>8000</td>\n",
       "      <td>...</td>\n",
       "      <td>67550</td>\n",
       "      <td>2</td>\n",
       "      <td>6500</td>\n",
       "      <td>635</td>\n",
       "      <td>164.29</td>\n",
       "      <td>170.57</td>\n",
       "      <td>19300.00</td>\n",
       "      <td>1.00</td>\n",
       "      <td>1.00</td>\n",
       "      <td>2.00</td>\n",
       "    </tr>\n",
       "    <tr>\n",
       "      <th>117036</th>\n",
       "      <td>13</td>\n",
       "      <td>75</td>\n",
       "      <td>117037</td>\n",
       "      <td>2.00</td>\n",
       "      <td>11700</td>\n",
       "      <td>37405</td>\n",
       "      <td>49105</td>\n",
       "      <td>0</td>\n",
       "      <td>12000</td>\n",
       "      <td>6000</td>\n",
       "      <td>...</td>\n",
       "      <td>159025</td>\n",
       "      <td>1</td>\n",
       "      <td>7501</td>\n",
       "      <td>252</td>\n",
       "      <td>284.83</td>\n",
       "      <td>291.79</td>\n",
       "      <td>54512.50</td>\n",
       "      <td>5.00</td>\n",
       "      <td>2.00</td>\n",
       "      <td>3.00</td>\n",
       "    </tr>\n",
       "    <tr>\n",
       "      <th>120752</th>\n",
       "      <td>13</td>\n",
       "      <td>75</td>\n",
       "      <td>120753</td>\n",
       "      <td>7.50</td>\n",
       "      <td>174772</td>\n",
       "      <td>0</td>\n",
       "      <td>174772</td>\n",
       "      <td>0</td>\n",
       "      <td>0</td>\n",
       "      <td>31400</td>\n",
       "      <td>...</td>\n",
       "      <td>284172</td>\n",
       "      <td>1</td>\n",
       "      <td>7504</td>\n",
       "      <td>125</td>\n",
       "      <td>154.93</td>\n",
       "      <td>148.97</td>\n",
       "      <td>37889.60</td>\n",
       "      <td>3.00</td>\n",
       "      <td>1.00</td>\n",
       "      <td>1.00</td>\n",
       "    </tr>\n",
       "  </tbody>\n",
       "</table>\n",
       "<p>10 rows × 87 columns</p>\n",
       "</div>"
      ],
      "text/plain": [
       "        W_REGN  W_PROV  SEQ_NO  FSIZE  REG_SAL  SEASON_SAL   WAGES  NETSHARE  \\\n",
       "138086      14      44  138087   3.00        0       40000   40000         0   \n",
       "125455      13      76  125456   6.00   513000      400000  913000         0   \n",
       "114083      13      74  114084   5.00   660000           0  660000         0   \n",
       "108187      12      98  108188   4.00        0      124800  124800         0   \n",
       "98396       11      82   98397   4.00    16800           0   16800         0   \n",
       "55023        7      12   55024   5.00   125400       52800  178200         0   \n",
       "97951       11      82   97952   5.00    74000           0   74000         0   \n",
       "106490      12      65  106491   3.50        0        7200    7200         0   \n",
       "117036      13      75  117037   2.00    11700       37405   49105         0   \n",
       "120752      13      75  120753   7.50   174772           0  174772         0   \n",
       "\n",
       "        CASH_ABROAD  CASH_DOMESTIC  ...    TOREC  URB  RPROV  RPSU  \\\n",
       "138086            0              0  ...   561185    2   4400   149   \n",
       "125455        60000              0  ...  1267450    1   7603   382   \n",
       "114083            0          65000  ...   725256    1   7403    49   \n",
       "108187        26000              0  ...   189955    1   9804    31   \n",
       "98396             0          11700  ...    89772    1   8200   160   \n",
       "55023             0              0  ...   210149    2   1200  1170   \n",
       "97951             0              0  ...   144707    1   8200   334   \n",
       "106490            0           8000  ...    67550    2   6500   635   \n",
       "117036        12000           6000  ...   159025    1   7501   252   \n",
       "120752            0          31400  ...   284172    1   7504   125   \n",
       "\n",
       "        FAMILY_WEIGHT  POPULATION_WEIGHT     PCINC  NPCINC  RPCINC  PPCINC  \n",
       "138086          22.57              23.52 165395.00   10.00    9.00   10.00  \n",
       "125455          74.44              67.14 211241.67   10.00    9.00   10.00  \n",
       "114083         119.19             120.09 145051.20    9.00    8.00    8.00  \n",
       "108187          46.34              51.36  47488.75    4.00    6.00    6.00  \n",
       "98396          112.38             114.73  22443.00    1.00    1.00    2.00  \n",
       "55023          170.66             173.08  42029.80    4.00    4.00    5.00  \n",
       "97951          106.38             108.61  25541.40    1.00    1.00    2.00  \n",
       "106490         164.29             170.57  19300.00    1.00    1.00    2.00  \n",
       "117036         284.83             291.79  54512.50    5.00    2.00    3.00  \n",
       "120752         154.93             148.97  37889.60    3.00    1.00    1.00  \n",
       "\n",
       "[10 rows x 87 columns]"
      ]
     },
     "execution_count": 31,
     "metadata": {},
     "output_type": "execute_result"
    }
   ],
   "source": [
    "df_21.sample(10)"
   ]
  },
  {
   "cell_type": "code",
   "execution_count": 42,
   "metadata": {},
   "outputs": [
    {
     "data": {
      "text/html": [
       "<div>\n",
       "<style scoped>\n",
       "    .dataframe tbody tr th:only-of-type {\n",
       "        vertical-align: middle;\n",
       "    }\n",
       "\n",
       "    .dataframe tbody tr th {\n",
       "        vertical-align: top;\n",
       "    }\n",
       "\n",
       "    .dataframe thead th {\n",
       "        text-align: right;\n",
       "    }\n",
       "</style>\n",
       "<table border=\"1\" class=\"dataframe\">\n",
       "  <thead>\n",
       "    <tr style=\"text-align: right;\">\n",
       "      <th></th>\n",
       "      <th>W_REGN</th>\n",
       "      <th>W_PROV</th>\n",
       "      <th>SEQ_NO</th>\n",
       "      <th>AVG_FSIZE</th>\n",
       "      <th>REG_SAL</th>\n",
       "      <th>SEASON_SAL</th>\n",
       "      <th>WAGES</th>\n",
       "      <th>NETSHARE</th>\n",
       "      <th>CASH_ABROAD</th>\n",
       "      <th>CASH_DOMESTIC</th>\n",
       "      <th>...</th>\n",
       "      <th>TOREC</th>\n",
       "      <th>URB</th>\n",
       "      <th>RPROV</th>\n",
       "      <th>RPSU</th>\n",
       "      <th>FAMILY_WEIGHT</th>\n",
       "      <th>POPULATION_WEIGHT</th>\n",
       "      <th>PCINC</th>\n",
       "      <th>NPCINC</th>\n",
       "      <th>RPCINC</th>\n",
       "      <th>PPCINC</th>\n",
       "    </tr>\n",
       "  </thead>\n",
       "  <tbody>\n",
       "    <tr>\n",
       "      <th>count</th>\n",
       "      <td>165029.00</td>\n",
       "      <td>165029.00</td>\n",
       "      <td>165029.00</td>\n",
       "      <td>165029.00</td>\n",
       "      <td>165029.00</td>\n",
       "      <td>165029.00</td>\n",
       "      <td>165029.00</td>\n",
       "      <td>165029.00</td>\n",
       "      <td>165029.00</td>\n",
       "      <td>165029.00</td>\n",
       "      <td>...</td>\n",
       "      <td>165029.00</td>\n",
       "      <td>165029.00</td>\n",
       "      <td>165029.00</td>\n",
       "      <td>165029.00</td>\n",
       "      <td>165029.00</td>\n",
       "      <td>165029.00</td>\n",
       "      <td>165029.00</td>\n",
       "      <td>165029.00</td>\n",
       "      <td>165029.00</td>\n",
       "      <td>165029.00</td>\n",
       "    </tr>\n",
       "    <tr>\n",
       "      <th>mean</th>\n",
       "      <td>9.27</td>\n",
       "      <td>45.66</td>\n",
       "      <td>82515.00</td>\n",
       "      <td>4.24</td>\n",
       "      <td>125300.56</td>\n",
       "      <td>25109.55</td>\n",
       "      <td>150410.11</td>\n",
       "      <td>1808.75</td>\n",
       "      <td>20017.54</td>\n",
       "      <td>16718.44</td>\n",
       "      <td>...</td>\n",
       "      <td>308397.95</td>\n",
       "      <td>1.52</td>\n",
       "      <td>4568.17</td>\n",
       "      <td>386.17</td>\n",
       "      <td>159.96</td>\n",
       "      <td>157.99</td>\n",
       "      <td>81850.92</td>\n",
       "      <td>5.29</td>\n",
       "      <td>5.53</td>\n",
       "      <td>5.49</td>\n",
       "    </tr>\n",
       "    <tr>\n",
       "      <th>std</th>\n",
       "      <td>4.70</td>\n",
       "      <td>24.89</td>\n",
       "      <td>47639.91</td>\n",
       "      <td>2.03</td>\n",
       "      <td>205360.38</td>\n",
       "      <td>47930.15</td>\n",
       "      <td>207443.14</td>\n",
       "      <td>14886.86</td>\n",
       "      <td>77520.00</td>\n",
       "      <td>31501.17</td>\n",
       "      <td>...</td>\n",
       "      <td>369101.24</td>\n",
       "      <td>0.50</td>\n",
       "      <td>2488.66</td>\n",
       "      <td>448.86</td>\n",
       "      <td>153.63</td>\n",
       "      <td>149.12</td>\n",
       "      <td>101006.56</td>\n",
       "      <td>2.90</td>\n",
       "      <td>2.88</td>\n",
       "      <td>2.87</td>\n",
       "    </tr>\n",
       "    <tr>\n",
       "      <th>min</th>\n",
       "      <td>1.00</td>\n",
       "      <td>1.00</td>\n",
       "      <td>1.00</td>\n",
       "      <td>1.00</td>\n",
       "      <td>0.00</td>\n",
       "      <td>0.00</td>\n",
       "      <td>0.00</td>\n",
       "      <td>0.00</td>\n",
       "      <td>0.00</td>\n",
       "      <td>0.00</td>\n",
       "      <td>...</td>\n",
       "      <td>10374.00</td>\n",
       "      <td>1.00</td>\n",
       "      <td>100.00</td>\n",
       "      <td>1.00</td>\n",
       "      <td>4.86</td>\n",
       "      <td>5.30</td>\n",
       "      <td>5408.62</td>\n",
       "      <td>1.00</td>\n",
       "      <td>1.00</td>\n",
       "      <td>1.00</td>\n",
       "    </tr>\n",
       "    <tr>\n",
       "      <th>25%</th>\n",
       "      <td>5.00</td>\n",
       "      <td>24.00</td>\n",
       "      <td>41258.00</td>\n",
       "      <td>3.00</td>\n",
       "      <td>0.00</td>\n",
       "      <td>0.00</td>\n",
       "      <td>21600.00</td>\n",
       "      <td>0.00</td>\n",
       "      <td>0.00</td>\n",
       "      <td>0.00</td>\n",
       "      <td>...</td>\n",
       "      <td>142900.00</td>\n",
       "      <td>1.00</td>\n",
       "      <td>2402.00</td>\n",
       "      <td>102.00</td>\n",
       "      <td>65.90</td>\n",
       "      <td>65.40</td>\n",
       "      <td>35403.00</td>\n",
       "      <td>3.00</td>\n",
       "      <td>3.00</td>\n",
       "      <td>3.00</td>\n",
       "    </tr>\n",
       "    <tr>\n",
       "      <th>50%</th>\n",
       "      <td>10.00</td>\n",
       "      <td>45.00</td>\n",
       "      <td>82515.00</td>\n",
       "      <td>4.00</td>\n",
       "      <td>56000.00</td>\n",
       "      <td>0.00</td>\n",
       "      <td>93000.00</td>\n",
       "      <td>0.00</td>\n",
       "      <td>0.00</td>\n",
       "      <td>8000.00</td>\n",
       "      <td>...</td>\n",
       "      <td>216980.00</td>\n",
       "      <td>2.00</td>\n",
       "      <td>4501.00</td>\n",
       "      <td>239.00</td>\n",
       "      <td>110.72</td>\n",
       "      <td>109.51</td>\n",
       "      <td>55432.00</td>\n",
       "      <td>5.00</td>\n",
       "      <td>6.00</td>\n",
       "      <td>5.00</td>\n",
       "    </tr>\n",
       "    <tr>\n",
       "      <th>75%</th>\n",
       "      <td>13.00</td>\n",
       "      <td>70.00</td>\n",
       "      <td>123772.00</td>\n",
       "      <td>5.50</td>\n",
       "      <td>165400.00</td>\n",
       "      <td>36000.00</td>\n",
       "      <td>191900.00</td>\n",
       "      <td>0.00</td>\n",
       "      <td>2000.00</td>\n",
       "      <td>21600.00</td>\n",
       "      <td>...</td>\n",
       "      <td>353216.00</td>\n",
       "      <td>2.00</td>\n",
       "      <td>7000.00</td>\n",
       "      <td>478.00</td>\n",
       "      <td>186.29</td>\n",
       "      <td>186.52</td>\n",
       "      <td>94000.00</td>\n",
       "      <td>8.00</td>\n",
       "      <td>8.00</td>\n",
       "      <td>8.00</td>\n",
       "    </tr>\n",
       "    <tr>\n",
       "      <th>max</th>\n",
       "      <td>17.00</td>\n",
       "      <td>98.00</td>\n",
       "      <td>165029.00</td>\n",
       "      <td>23.00</td>\n",
       "      <td>6821000.00</td>\n",
       "      <td>4290000.00</td>\n",
       "      <td>6821000.00</td>\n",
       "      <td>3901650.00</td>\n",
       "      <td>5130000.00</td>\n",
       "      <td>3000000.00</td>\n",
       "      <td>...</td>\n",
       "      <td>20736058.00</td>\n",
       "      <td>2.00</td>\n",
       "      <td>9804.00</td>\n",
       "      <td>3086.00</td>\n",
       "      <td>3950.61</td>\n",
       "      <td>4029.51</td>\n",
       "      <td>9691285.00</td>\n",
       "      <td>10.00</td>\n",
       "      <td>10.00</td>\n",
       "      <td>10.00</td>\n",
       "    </tr>\n",
       "  </tbody>\n",
       "</table>\n",
       "<p>8 rows × 87 columns</p>\n",
       "</div>"
      ],
      "text/plain": [
       "         W_REGN    W_PROV    SEQ_NO  AVG_FSIZE    REG_SAL  SEASON_SAL  \\\n",
       "count 165029.00 165029.00 165029.00  165029.00  165029.00   165029.00   \n",
       "mean       9.27     45.66  82515.00       4.24  125300.56    25109.55   \n",
       "std        4.70     24.89  47639.91       2.03  205360.38    47930.15   \n",
       "min        1.00      1.00      1.00       1.00       0.00        0.00   \n",
       "25%        5.00     24.00  41258.00       3.00       0.00        0.00   \n",
       "50%       10.00     45.00  82515.00       4.00   56000.00        0.00   \n",
       "75%       13.00     70.00 123772.00       5.50  165400.00    36000.00   \n",
       "max       17.00     98.00 165029.00      23.00 6821000.00  4290000.00   \n",
       "\n",
       "           WAGES   NETSHARE  CASH_ABROAD  CASH_DOMESTIC  ...       TOREC  \\\n",
       "count  165029.00  165029.00    165029.00      165029.00  ...   165029.00   \n",
       "mean   150410.11    1808.75     20017.54       16718.44  ...   308397.95   \n",
       "std    207443.14   14886.86     77520.00       31501.17  ...   369101.24   \n",
       "min         0.00       0.00         0.00           0.00  ...    10374.00   \n",
       "25%     21600.00       0.00         0.00           0.00  ...   142900.00   \n",
       "50%     93000.00       0.00         0.00        8000.00  ...   216980.00   \n",
       "75%    191900.00       0.00      2000.00       21600.00  ...   353216.00   \n",
       "max   6821000.00 3901650.00   5130000.00     3000000.00  ... 20736058.00   \n",
       "\n",
       "            URB     RPROV      RPSU  FAMILY_WEIGHT  POPULATION_WEIGHT  \\\n",
       "count 165029.00 165029.00 165029.00      165029.00          165029.00   \n",
       "mean       1.52   4568.17    386.17         159.96             157.99   \n",
       "std        0.50   2488.66    448.86         153.63             149.12   \n",
       "min        1.00    100.00      1.00           4.86               5.30   \n",
       "25%        1.00   2402.00    102.00          65.90              65.40   \n",
       "50%        2.00   4501.00    239.00         110.72             109.51   \n",
       "75%        2.00   7000.00    478.00         186.29             186.52   \n",
       "max        2.00   9804.00   3086.00        3950.61            4029.51   \n",
       "\n",
       "           PCINC    NPCINC    RPCINC    PPCINC  \n",
       "count  165029.00 165029.00 165029.00 165029.00  \n",
       "mean    81850.92      5.29      5.53      5.49  \n",
       "std    101006.56      2.90      2.88      2.87  \n",
       "min      5408.62      1.00      1.00      1.00  \n",
       "25%     35403.00      3.00      3.00      3.00  \n",
       "50%     55432.00      5.00      6.00      5.00  \n",
       "75%     94000.00      8.00      8.00      8.00  \n",
       "max   9691285.00     10.00     10.00     10.00  \n",
       "\n",
       "[8 rows x 87 columns]"
      ]
     },
     "execution_count": 42,
     "metadata": {},
     "output_type": "execute_result"
    }
   ],
   "source": [
    "# To avoid scientific notation formatting\n",
    "pd.set_option('display.float_format', '{:.2f}'.format)\n",
    "\n",
    "df_21.describe()"
   ]
  },
  {
   "cell_type": "code",
   "execution_count": 14,
   "metadata": {},
   "outputs": [
    {
     "data": {
      "text/plain": [
       "Index(['W_REGN', 'W_PROV', 'SEQ_NO', 'FSIZE', 'REG_SAL', 'SEASON_SAL', 'WAGES',\n",
       "       'NETSHARE', 'CASH_ABROAD', 'CASH_DOMESTIC', 'RENTALS_REC', 'INTEREST',\n",
       "       'PENSION', 'DIVIDENDS', 'OTHER_SOURCE', 'NET_RECEIPT', 'REGFT',\n",
       "       'NET_CFG', 'NET_LPR', 'NET_FISH', 'NET_FOR', 'NET_RET', 'NET_MFG',\n",
       "       'NET_TRANS', 'NET_NEC_A8', 'NET_NEC_A9', 'NET_NEC_A10', 'EAINC',\n",
       "       'TOINC', 'LOSSES', 'BREAD', 'MEAT', 'FISH', 'MILK', 'OIL', 'FRUIT',\n",
       "       'VEG', 'SUGAR', 'FOOD_NEC', 'FRUIT_VEG', 'COFFEE', 'TEA', 'COCOA',\n",
       "       'WATER', 'SOFTDRINKS', 'OTHER_NON_ALCOHOL', 'ALCOHOL', 'TOBACCO',\n",
       "       'OTHER_VEG', 'SERVICES_PRIMARY_GOODS', 'ALCOHOL_PROCDUCTION_SERVICES',\n",
       "       'FOOD_HOME', 'FOOD_OUTSIDE', 'FOOD', 'CLOTH', 'FURNISHING', 'HEALTH',\n",
       "       'HOUSING_WATER', 'ACTRENT', 'RENTVAL', 'IMPUTED_RENT', 'BIMPUTED_RENT',\n",
       "       'TRANSPORT', 'COMMUNICATION', 'RECREATION', 'EDUCATION', 'INSURANCE',\n",
       "       'MISCELLANEOUS', 'DURABLE', 'OCCASION', 'OTHER_EXPENDITURE',\n",
       "       'OTHER_DISBURSEMENT', 'FOOD_ACCOM_SRVC', 'NFOOD', 'TOTEX', 'TOTDIS',\n",
       "       'OTHREC', 'TOREC', 'URB', 'RPROV', 'RPSU', 'FAMILY_WEIGHT',\n",
       "       'POPULATION_WEIGHT', 'PCINC', 'NPCINC', 'RPCINC', 'PPCINC'],\n",
       "      dtype='object')"
      ]
     },
     "execution_count": 14,
     "metadata": {},
     "output_type": "execute_result"
    }
   ],
   "source": [
    "df_21.columns"
   ]
  },
  {
   "cell_type": "code",
   "execution_count": 15,
   "metadata": {},
   "outputs": [
    {
     "data": {
      "text/plain": [
       "Index(['W_PROV', 'SEQ_NO', 'RPROV', 'FSIZE', 'REG_SAL', 'SEASON_SAL', 'WAGES',\n",
       "       'NETSHARE', 'CASH_ABROAD', 'CASH_DOMESTIC', 'RENTALS_REC', 'INTEREST',\n",
       "       'PENSION', 'DIVIDENDS', 'OTHER_SOURCE', 'NET_RECEIPT', 'REGFT',\n",
       "       'NET_CFG', 'NET_LPR', 'NET_FISH', 'NET_FOR', 'NET_RET', 'NET_MFG',\n",
       "       'NET_TRANS', 'NET_NEC_A8', 'NET_NEC_A9', 'NET_NEC_A10', 'EAINC',\n",
       "       'LOSSES', 'BREAD', 'MEAT', 'FISH', 'MILK', 'OIL', 'FRUIT', 'VEG',\n",
       "       'SUGAR', 'FOOD_NEC', 'FRUIT_VEG', 'COFFEE', 'TEA', 'COCOA', 'WATER',\n",
       "       'SOFTDRINKS', 'OTHER_NON_ALCOHOL', 'ALCOHOL', 'TOBACCO', 'OTHER_VEG',\n",
       "       'SERVICES_PRIMARY_GOODS', 'ALCOHOL_PROCDUCTION_SERVICES', 'FOOD_HOME',\n",
       "       'FOOD_OUTSIDE', 'FOOD', 'CLOTH', 'HOUSING_WATER', 'ACTRENT',\n",
       "       'IMPUTED_RENT', 'BIMPUTED_RENT', 'RENTVAL', 'FURNISHING', 'HEALTH',\n",
       "       'TRANSPORT', 'COMMUNICATION', 'RECREATION', 'EDUCATION', 'INSURANCE',\n",
       "       'MISCELLANEOUS', 'DURABLE', 'OCCASION', 'OTHER_EXPENDITURE',\n",
       "       'OTHER_DISBURSEMENT', 'FOOD_ACCOM_SRVC', 'NFOOD', 'TOINC', 'TOTEX',\n",
       "       'TOTDIS', 'OTHREC', 'TOREC', 'RPSU', 'FAMILY_WEIGHT',\n",
       "       'POPULATION_WEIGHT', 'URB', 'PCINC', 'NPCINC', 'PPCINC', 'RPCINC',\n",
       "       'W_REGN'],\n",
       "      dtype='object')"
      ]
     },
     "execution_count": 15,
     "metadata": {},
     "output_type": "execute_result"
    }
   ],
   "source": [
    "df_23.columns"
   ]
  },
  {
   "cell_type": "code",
   "execution_count": 16,
   "metadata": {},
   "outputs": [
    {
     "data": {
      "text/plain": [
       "87"
      ]
     },
     "execution_count": 16,
     "metadata": {},
     "output_type": "execute_result"
    }
   ],
   "source": [
    "df_23.shape[1]"
   ]
  },
  {
   "cell_type": "code",
   "execution_count": 17,
   "metadata": {},
   "outputs": [
    {
     "data": {
      "text/plain": [
       "87"
      ]
     },
     "execution_count": 17,
     "metadata": {},
     "output_type": "execute_result"
    }
   ],
   "source": [
    "df_21.shape[1]"
   ]
  },
  {
   "cell_type": "code",
   "execution_count": 18,
   "metadata": {},
   "outputs": [
    {
     "name": "stdout",
     "output_type": "stream",
     "text": [
      "<class 'pandas.core.frame.DataFrame'>\n",
      "RangeIndex: 165029 entries, 0 to 165028\n",
      "Data columns (total 87 columns):\n",
      " #   Column                        Non-Null Count   Dtype  \n",
      "---  ------                        --------------   -----  \n",
      " 0   W_REGN                        165029 non-null  int64  \n",
      " 1   W_PROV                        165029 non-null  int64  \n",
      " 2   SEQ_NO                        165029 non-null  int64  \n",
      " 3   FSIZE                         165029 non-null  float64\n",
      " 4   REG_SAL                       165029 non-null  int64  \n",
      " 5   SEASON_SAL                    165029 non-null  int64  \n",
      " 6   WAGES                         165029 non-null  int64  \n",
      " 7   NETSHARE                      165029 non-null  int64  \n",
      " 8   CASH_ABROAD                   165029 non-null  int64  \n",
      " 9   CASH_DOMESTIC                 165029 non-null  int64  \n",
      " 10  RENTALS_REC                   165029 non-null  int64  \n",
      " 11  INTEREST                      165029 non-null  int64  \n",
      " 12  PENSION                       165029 non-null  int64  \n",
      " 13  DIVIDENDS                     165029 non-null  int64  \n",
      " 14  OTHER_SOURCE                  165029 non-null  int64  \n",
      " 15  NET_RECEIPT                   165029 non-null  int64  \n",
      " 16  REGFT                         165029 non-null  int64  \n",
      " 17  NET_CFG                       165029 non-null  int64  \n",
      " 18  NET_LPR                       165029 non-null  int64  \n",
      " 19  NET_FISH                      165029 non-null  int64  \n",
      " 20  NET_FOR                       165029 non-null  int64  \n",
      " 21  NET_RET                       165029 non-null  int64  \n",
      " 22  NET_MFG                       165029 non-null  int64  \n",
      " 23  NET_TRANS                     165029 non-null  int64  \n",
      " 24  NET_NEC_A8                    165029 non-null  int64  \n",
      " 25  NET_NEC_A9                    165029 non-null  int64  \n",
      " 26  NET_NEC_A10                   165029 non-null  int64  \n",
      " 27  EAINC                         165029 non-null  int64  \n",
      " 28  TOINC                         165029 non-null  int64  \n",
      " 29  LOSSES                        165029 non-null  int64  \n",
      " 30  BREAD                         165029 non-null  int64  \n",
      " 31  MEAT                          165029 non-null  int64  \n",
      " 32  FISH                          165029 non-null  int64  \n",
      " 33  MILK                          165029 non-null  int64  \n",
      " 34  OIL                           165029 non-null  int64  \n",
      " 35  FRUIT                         165029 non-null  int64  \n",
      " 36  VEG                           165029 non-null  int64  \n",
      " 37  SUGAR                         165029 non-null  int64  \n",
      " 38  FOOD_NEC                      165029 non-null  int64  \n",
      " 39  FRUIT_VEG                     165029 non-null  int64  \n",
      " 40  COFFEE                        165029 non-null  int64  \n",
      " 41  TEA                           165029 non-null  int64  \n",
      " 42  COCOA                         165029 non-null  int64  \n",
      " 43  WATER                         165029 non-null  int64  \n",
      " 44  SOFTDRINKS                    165029 non-null  int64  \n",
      " 45  OTHER_NON_ALCOHOL             165029 non-null  int64  \n",
      " 46  ALCOHOL                       165029 non-null  int64  \n",
      " 47  TOBACCO                       165029 non-null  int64  \n",
      " 48  OTHER_VEG                     165029 non-null  int64  \n",
      " 49  SERVICES_PRIMARY_GOODS        165029 non-null  int64  \n",
      " 50  ALCOHOL_PROCDUCTION_SERVICES  165029 non-null  int64  \n",
      " 51  FOOD_HOME                     165029 non-null  int64  \n",
      " 52  FOOD_OUTSIDE                  165029 non-null  int64  \n",
      " 53  FOOD                          165029 non-null  int64  \n",
      " 54  CLOTH                         165029 non-null  int64  \n",
      " 55  FURNISHING                    165029 non-null  int64  \n",
      " 56  HEALTH                        165029 non-null  int64  \n",
      " 57  HOUSING_WATER                 165029 non-null  int64  \n",
      " 58  ACTRENT                       165029 non-null  int64  \n",
      " 59  RENTVAL                       165029 non-null  int64  \n",
      " 60  IMPUTED_RENT                  165029 non-null  int64  \n",
      " 61  BIMPUTED_RENT                 165029 non-null  int64  \n",
      " 62  TRANSPORT                     165029 non-null  int64  \n",
      " 63  COMMUNICATION                 165029 non-null  int64  \n",
      " 64  RECREATION                    165029 non-null  int64  \n",
      " 65  EDUCATION                     165029 non-null  int64  \n",
      " 66  INSURANCE                     165029 non-null  int64  \n",
      " 67  MISCELLANEOUS                 165029 non-null  int64  \n",
      " 68  DURABLE                       165029 non-null  int64  \n",
      " 69  OCCASION                      165029 non-null  int64  \n",
      " 70  OTHER_EXPENDITURE             165029 non-null  int64  \n",
      " 71  OTHER_DISBURSEMENT            165029 non-null  int64  \n",
      " 72  FOOD_ACCOM_SRVC               165029 non-null  int64  \n",
      " 73  NFOOD                         165029 non-null  int64  \n",
      " 74  TOTEX                         165029 non-null  int64  \n",
      " 75  TOTDIS                        165029 non-null  int64  \n",
      " 76  OTHREC                        165029 non-null  int64  \n",
      " 77  TOREC                         165029 non-null  int64  \n",
      " 78  URB                           165029 non-null  int64  \n",
      " 79  RPROV                         165029 non-null  int64  \n",
      " 80  RPSU                          165029 non-null  int64  \n",
      " 81  FAMILY_WEIGHT                 165029 non-null  float64\n",
      " 82  POPULATION_WEIGHT             165029 non-null  float64\n",
      " 83  PCINC                         165029 non-null  float64\n",
      " 84  NPCINC                        165029 non-null  float64\n",
      " 85  RPCINC                        165029 non-null  float64\n",
      " 86  PPCINC                        165029 non-null  float64\n",
      "dtypes: float64(7), int64(80)\n",
      "memory usage: 109.5 MB\n"
     ]
    }
   ],
   "source": [
    "df_21.info()"
   ]
  },
  {
   "cell_type": "markdown",
   "metadata": {},
   "source": [
    "### Checking for missing values"
   ]
  },
  {
   "cell_type": "code",
   "execution_count": 19,
   "metadata": {},
   "outputs": [
    {
     "data": {
      "text/plain": [
       "17"
      ]
     },
     "execution_count": 19,
     "metadata": {},
     "output_type": "execute_result"
    }
   ],
   "source": [
    "# Result should be 17 since there are 17 regions in the Philippines\n",
    "df_21[\"W_REGN\"].nunique()"
   ]
  },
  {
   "cell_type": "code",
   "execution_count": 20,
   "metadata": {},
   "outputs": [
    {
     "data": {
      "text/plain": [
       "87"
      ]
     },
     "execution_count": 20,
     "metadata": {},
     "output_type": "execute_result"
    }
   ],
   "source": [
    "# Result should be 82 since there are 82 provinces in the Philippines. 38 in Luzon, 27 in the Visayas and 17 in Mindanao.\n",
    "df_21[\"W_PROV\"].nunique()"
   ]
  },
  {
   "cell_type": "code",
   "execution_count": 46,
   "metadata": {},
   "outputs": [
    {
     "data": {
      "text/plain": [
       "W_REGN               0\n",
       "W_PROV               0\n",
       "SEQ_NO               0\n",
       "AVG_FSIZE            0\n",
       "REG_SAL              0\n",
       "                    ..\n",
       "POPULATION_WEIGHT    0\n",
       "PCINC                0\n",
       "NPCINC               0\n",
       "RPCINC               0\n",
       "PPCINC               0\n",
       "Length: 87, dtype: int64"
      ]
     },
     "execution_count": 46,
     "metadata": {},
     "output_type": "execute_result"
    }
   ],
   "source": [
    "# Override pandas display function\n",
    "pd.options.display.min_rows = 87\n",
    "df_21.isnull().sum()"
   ]
  },
  {
   "cell_type": "markdown",
   "metadata": {},
   "source": [
    "## Preliminary Findings (Summary Statistics)"
   ]
  },
  {
   "cell_type": "markdown",
   "metadata": {},
   "source": [
    "### Statistics about the `FSIZE` (Family Size)"
   ]
  },
  {
   "cell_type": "code",
   "execution_count": 21,
   "metadata": {},
   "outputs": [
    {
     "data": {
      "text/plain": [
       "count    165029.000000\n",
       "mean          4.244409\n",
       "std           2.029229\n",
       "min           1.000000\n",
       "25%           3.000000\n",
       "50%           4.000000\n",
       "75%           5.500000\n",
       "max          23.000000\n",
       "Name: FSIZE, dtype: float64"
      ]
     },
     "execution_count": 21,
     "metadata": {},
     "output_type": "execute_result"
    }
   ],
   "source": [
    "# Statistics about `FSIZE`\n",
    "df_21['FSIZE'].describe()"
   ]
  },
  {
   "cell_type": "markdown",
   "metadata": {},
   "source": [
    "### Statistics about the `REG_SAL` (Regular Salary)"
   ]
  },
  {
   "cell_type": "code",
   "execution_count": 22,
   "metadata": {},
   "outputs": [
    {
     "data": {
      "text/plain": [
       "count    1.650290e+05\n",
       "mean     1.253006e+05\n",
       "std      2.053604e+05\n",
       "min      0.000000e+00\n",
       "25%      0.000000e+00\n",
       "50%      5.600000e+04\n",
       "75%      1.654000e+05\n",
       "max      6.821000e+06\n",
       "Name: REG_SAL, dtype: float64"
      ]
     },
     "execution_count": 22,
     "metadata": {},
     "output_type": "execute_result"
    }
   ],
   "source": [
    "# Statistics about `REG_SAL`\n",
    "\n",
    "df_21['REG_SAL'].describe()"
   ]
  },
  {
   "cell_type": "markdown",
   "metadata": {},
   "source": [
    "### Statistics about `PCINC` (Per Capita Income)"
   ]
  },
  {
   "cell_type": "code",
   "execution_count": 23,
   "metadata": {},
   "outputs": [
    {
     "data": {
      "text/plain": [
       "count    1.650290e+05\n",
       "mean     8.185092e+04\n",
       "std      1.010066e+05\n",
       "min      5.408625e+03\n",
       "25%      3.540300e+04\n",
       "50%      5.543200e+04\n",
       "75%      9.400000e+04\n",
       "max      9.691285e+06\n",
       "Name: PCINC, dtype: float64"
      ]
     },
     "execution_count": 23,
     "metadata": {},
     "output_type": "execute_result"
    }
   ],
   "source": [
    "# Statistics about `PCINC`\n",
    "df_21['PCINC'].describe()"
   ]
  }
 ],
 "metadata": {
  "kernelspec": {
   "display_name": ".venv",
   "language": "python",
   "name": "python3"
  },
  "language_info": {
   "codemirror_mode": {
    "name": "ipython",
    "version": 3
   },
   "file_extension": ".py",
   "mimetype": "text/x-python",
   "name": "python",
   "nbconvert_exporter": "python",
   "pygments_lexer": "ipython3",
   "version": "3.12.3"
  }
 },
 "nbformat": 4,
 "nbformat_minor": 2
}
